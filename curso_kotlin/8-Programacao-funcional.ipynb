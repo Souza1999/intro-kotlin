{
 "cells": [
  {
   "cell_type": "markdown",
   "source": [
    "![Logo do Kotlin](https://upload.wikimedia.org/wikipedia/commons/thumb/d/d4/Kotlin_logo.svg/2560px-Kotlin_logo.svg.png)\n",
    "\n"
   ],
   "metadata": {
    "collapsed": false
   }
  },
  {
   "cell_type": "markdown",
   "source": [
    "***\n",
    "# Programação Funcional\n",
    "A programação funcional é um paradigma que se concentra em tratar a computação como uma avaliação de funções matemáticas. Em Kotlin, podemos aproveitar os princípios da programação funcional para escrever código mais conciso, expressivo e seguro.A seguir exploraremos os conceitos fundamentais da programação funcional em Kotlin, acompanhados de exemplos práticos."
   ],
   "metadata": {
    "collapsed": false
   }
  },
  {
   "cell_type": "markdown",
   "source": [
    "#### Imutabilidade\n",
    "Em Kotlin, podemos declarar valores imutáveis usando a palavra-chave val. Isso significa que uma vez atribuído, o valor não pode ser alterado. A imutabilidade é um conceito importante na programação funcional.\n",
    "Exemplo:"
   ],
   "metadata": {
    "collapsed": false
   }
  },
  {
   "cell_type": "code",
   "outputs": [],
   "source": [
    "val pi = 3.14\n",
    "// pi = 3.14159 // Isso resultaria em erro, pois 'pi' é imutável"
   ],
   "metadata": {
    "collapsed": false,
    "ExecuteTime": {
     "end_time": "2024-03-15T02:40:29.344802100Z",
     "start_time": "2024-03-15T02:40:28.145490400Z"
    }
   },
   "execution_count": 551
  },
  {
   "cell_type": "markdown",
   "source": [
    "####  Funções\n",
    "As funções são blocos de código nomeados que executam tarefas específicas. Em Kotlin, temos duas palavras-chave para declarar funções:\n",
    "- fun: Usada para definir funções.\n",
    "- val: Usada para definir valores imutáveis (constantes).\n",
    "\n",
    "Exemplo de uma função simples:"
   ],
   "metadata": {
    "collapsed": false
   }
  },
  {
   "cell_type": "code",
   "outputs": [
    {
     "name": "stdout",
     "output_type": "stream",
     "text": [
      "Olá, Alice!\r\n"
     ]
    }
   ],
   "source": [
    "fun saudacao(nome: String): String {\n",
    "    return \"Olá, $nome!\"\n",
    "}\n",
    "\n",
    "val mensagem = saudacao(\"Alice\")\n",
    "println(mensagem)"
   ],
   "metadata": {
    "collapsed": false,
    "ExecuteTime": {
     "end_time": "2024-03-15T02:40:30.155879600Z",
     "start_time": "2024-03-15T02:40:29.348820900Z"
    }
   },
   "execution_count": 552
  },
  {
   "cell_type": "markdown",
   "source": [
    "#### Funções de Ordem Superior\n",
    "Funções de ordem superior são aquelas que recebem outras funções como argumentos ou retornam funções como resultado. Elas nos permitem criar abstrações poderosas.\n",
    "Exemplo:"
   ],
   "metadata": {
    "collapsed": false
   }
  },
  {
   "cell_type": "code",
   "outputs": [
    {
     "name": "stderr",
     "output_type": "stream",
     "text": [
      "Line_531.jupyter.kts (1:27 - 36) This class shouldn't be used in Kotlin. Use kotlin.collections.List or kotlin.collections.MutableList instead.\n",
      "Line_531.jupyter.kts (1:68 - 77) This class shouldn't be used in Kotlin. Use kotlin.collections.List or kotlin.collections.MutableList instead.\n",
      "Line_531.jupyter.kts (2:12 - 36) Type mismatch: inferred type is kotlin.collections.List<Int> but java.util.List<Int> was expected\n",
      "Line_531.jupyter.kts (2:18 - 36) Type mismatch: inferred type is kotlin.collections.List<Int> but java.util.List<Int> was expected"
     ]
    }
   ],
   "source": [
    "fun processarLista(lista: List<Int>, transformacao: (Int) -> Int): List<Int> {\n",
    "    return lista.map(transformacao)\n",
    "}\n",
    "\n",
    "fun dobrar(numero: Int): Int {\n",
    "    return numero * 2\n",
    "}\n",
    "\n",
    "val numeros = listOf(1, 2, 3, 4, 5)\n",
    "val numerosDobrados = processarLista(numeros, ::dobrar)\n",
    "println(numerosDobrados)"
   ],
   "metadata": {
    "collapsed": false,
    "ExecuteTime": {
     "end_time": "2024-03-15T02:40:30.384656300Z",
     "start_time": "2024-03-15T02:40:30.156884600Z"
    }
   },
   "execution_count": 553
  },
  {
   "cell_type": "markdown",
   "source": [
    "#### Composição de Funções\n",
    "Compor funções é outra característica importante da programação funcional. Podemos criar novas funções combinando funções existentes.\n",
    "Exemplo:"
   ],
   "metadata": {
    "collapsed": false
   }
  },
  {
   "cell_type": "code",
   "outputs": [
    {
     "name": "stdout",
     "output_type": "stream",
     "text": [
      "7\r\n"
     ]
    }
   ],
   "source": [
    "fun somarUm(numero: Int): Int {\n",
    "    return numero + 1\n",
    "}\n",
    "\n",
    "val resultado = somarUm(dobrar(3))\n",
    "println(resultado) // Saída: 7"
   ],
   "metadata": {
    "collapsed": false,
    "ExecuteTime": {
     "end_time": "2024-03-15T02:40:30.473489100Z",
     "start_time": "2024-03-15T02:40:30.388177600Z"
    }
   },
   "execution_count": 554
  },
  {
   "cell_type": "markdown",
   "source": [
    "A programação funcional em Kotlin oferece uma abordagem elegante e poderosa para resolver problemas. Ao aplicar esses conceitos, você estará preparado para escrever código mais limpo e eficiente. "
   ],
   "metadata": {
    "collapsed": false
   }
  },
  {
   "cell_type": "markdown",
   "source": [
    "***\n",
    "## 1 - Imutabilidade\n",
    "Em Kotlin, entende-se por imutabilidade os dados que não podem ser alterados após terem sido atribuídos a uma propriedade, garantindo que uma determinada propriedade possua sempre o mesmo valor.\n",
    "Para criar uma variável imutável, utiliza-se da palavra reservada `val`, garantindo *imutabilidade referencial*, mas possibilitando a alteração de valores internos instanciados com `var`:"
   ],
   "metadata": {
    "collapsed": false
   }
  },
  {
   "cell_type": "code",
   "outputs": [
    {
     "name": "stdout",
     "output_type": "stream",
     "text": [
      "Aluno(matricula=1, nome=João, estado=PB)\r\n",
      "Aluno(matricula=2, nome=Bruna, estado=PE)\r\n",
      "true\r\n"
     ]
    }
   ],
   "source": [
    "data class Aluno(var matricula: Int, var nome: String, var estado: String)\n",
    "\n",
    "val aluno = Aluno(1, \"João\", \"PB\")\n",
    "val novoAluno = Aluno(2, \"Bruna\", \"PE\")\n",
    "println(aluno)\n",
    "//aluno = novoAluno //Vai dar erro, pois não podemos associar um novo valor a propriedade\n",
    "\n",
    "aluno.matricula = novoAluno.matricula\n",
    "aluno.nome = novoAluno.nome\n",
    "aluno.estado = novoAluno.estado\n",
    "println(aluno)\n",
    "println(aluno == novoAluno)"
   ],
   "metadata": {
    "collapsed": false,
    "ExecuteTime": {
     "end_time": "2024-03-15T02:40:30.690233400Z",
     "start_time": "2024-03-15T02:40:30.473489100Z"
    }
   },
   "execution_count": 555
  },
  {
   "cell_type": "markdown",
   "source": [
    "Note que é possível alterar um valor interno desta propriedade caso ela seja um var.\n",
    "\n",
    "Se declaramos as propriedades de matrícula, nome e estado como val, podemos garantir a imutabilidade. \n",
    "\n",
    "O que faríamos se um aluno mudasse de estado e precisássemos fazer uma atualização? "
   ],
   "metadata": {
    "collapsed": false
   }
  },
  {
   "cell_type": "code",
   "outputs": [
    {
     "name": "stdout",
     "output_type": "stream",
     "text": [
      "Aluno(matricula=1, nome=João, estado=PB)\r\n",
      "Aluno(matricula=1, nome=João, estado=PE)\r\n"
     ]
    }
   ],
   "source": [
    "data class Aluno(val matricula: Int, val nome: String, val estado: String)\n",
    "\n",
    "val aluno = Aluno(1, \"João\", \"PB\")\n",
    "val novoAluno = aluno.copy(estado = \"PE\")\n",
    "\n",
    "println(aluno)\n",
    "println(novoAluno)"
   ],
   "metadata": {
    "collapsed": false,
    "ExecuteTime": {
     "end_time": "2024-03-15T02:40:30.803348400Z",
     "start_time": "2024-03-15T02:40:30.691230300Z"
    }
   },
   "execution_count": 556
  },
  {
   "cell_type": "markdown",
   "source": [
    "Utilizando a função `.copy()` para copiar um objeto, permitindo alterar algumas de suas propriedades enquanto mantém o restante inalterado. Permitindo alterar algumas de suas propriedades enquanto mantém o restante inalterado."
   ],
   "metadata": {
    "collapsed": false
   }
  },
  {
   "cell_type": "markdown",
   "source": [
    "***\n",
    "## 2 - Funções Impuras e Funções Puras\n",
    "Dentro do conceito de Programação Funcional, principalmente através do Kotlin, as funções podem ser classificadas como funções puras ou impuras, dependendo do seu comportamento e retorno."
   ],
   "metadata": {
    "collapsed": false
   }
  },
  {
   "cell_type": "markdown",
   "source": [
    "### Funções impuras\n",
    "Funções impuras são funções que podem causar um efeito colateral ou produzir resultados diferentes dependendo de causas externas.\n",
    "\n",
    "Elas podem gerar um `return` diferente para mesmas entradas, dependendo apenas de valores externos."
   ],
   "metadata": {
    "collapsed": false
   }
  },
  {
   "cell_type": "code",
   "outputs": [
    {
     "name": "stdout",
     "output_type": "stream",
     "text": [
      "2\r\n",
      "4\r\n",
      "6\r\n",
      "8\r\n"
     ]
    }
   ],
   "source": [
    "var total = 0\n",
    "fun somarAoTotal(valor: Int): Int{\n",
    "    total += valor\n",
    "    return total\n",
    "}\n",
    "for(i in 1..4){\n",
    "    println(somarAoTotal(2))\n",
    "}"
   ],
   "metadata": {
    "collapsed": false,
    "ExecuteTime": {
     "end_time": "2024-03-15T02:40:30.905158900Z",
     "start_time": "2024-03-15T02:40:30.805363300Z"
    }
   },
   "execution_count": 557
  },
  {
   "cell_type": "markdown",
   "source": [
    "No exemplo acima, o retorno poderá voltar diferente mesmo provendo os mesmos valores como parâmetro, pois ele depende parcialmente do valor da variável `total`, incrementada cada vez que a função é chamada.\n",
    "\n",
    "Uma função impura também pode causar efeitos colaterais ao resto do código, como acessar variáveis globais, modificar valores externos ou criar exceções."
   ],
   "metadata": {
    "collapsed": false
   }
  },
  {
   "cell_type": "code",
   "outputs": [
    {
     "name": "stdout",
     "output_type": "stream",
     "text": [
      "20\r\n",
      "18\r\n"
     ]
    }
   ],
   "source": [
    "data class Bolo(var fatias: Int){\n",
    "    fun cortarFatias(quantidade:Int){\n",
    "        fatias -= quantidade \n",
    "    }\n",
    "}\n",
    "\n",
    "val bolo = Bolo(20)\n",
    "println(bolo.fatias)\n",
    "\n",
    "bolo.cortarFatias(2)\n",
    "println(bolo.fatias)"
   ],
   "metadata": {
    "collapsed": false,
    "ExecuteTime": {
     "end_time": "2024-03-15T02:40:31.028894100Z",
     "start_time": "2024-03-15T02:40:30.906158800Z"
    }
   },
   "execution_count": 558
  },
  {
   "cell_type": "markdown",
   "source": [
    "Nesse outro exemplo, a função, apesar de não retornar valores, afeta o dado cadastrado na classe `Bolo`."
   ],
   "metadata": {
    "collapsed": false
   }
  },
  {
   "cell_type": "markdown",
   "source": [
    "### Funções Puras\n",
    "\n",
    "Funções puras, ao contrário das funções impuras, sempre retorna o mesmo resultado para a mesma entrada, não acessando ou modificando o código externo, sendo mais consistente e previsível."
   ],
   "metadata": {
    "collapsed": false
   }
  },
  {
   "cell_type": "code",
   "outputs": [
    {
     "name": "stdout",
     "output_type": "stream",
     "text": [
      "7.5\r\n"
     ]
    }
   ],
   "source": [
    "fun gerarMedia(lista:MutableList<Double>): Double{\n",
    "    val notasTotais = lista.sum()\n",
    "    val media = notasTotais/lista.count()\n",
    "    \n",
    "    return media\n",
    "}\n",
    "\n",
    "println(gerarMedia(mutableListOf<Double>(10.0, 5.0, 7.5)))"
   ],
   "metadata": {
    "collapsed": false,
    "ExecuteTime": {
     "end_time": "2024-03-15T02:40:31.142845700Z",
     "start_time": "2024-03-15T02:40:31.029896900Z"
    }
   },
   "execution_count": 559
  },
  {
   "cell_type": "markdown",
   "source": [
    "No exemplo, a função `GerarMedia` recebe uma lista de valores e gera um `return` baseado apenas nos parâmetros da função, gerando sempre o mesmo resultado."
   ],
   "metadata": {
    "collapsed": false
   }
  },
  {
   "cell_type": "markdown",
   "source": [
    "***\n",
    "## 3 - Funções de primeira classe e Funções de alta ordem\n",
    "Em Kotlin, as funções são tratadas como cidadãos de primeira classe, o que significa que elas podem ser tratadas da mesma maneira que outros tipos de dados, como inteiros, strings ou objetos. Isso permite uma série de operações interessantes que não estão disponíveis em todas as linguagens de programação.\n",
    "\n",
    "Aqui estão alguns pontos importantes sobre funções de primeira classe em Kotlin:\n"
   ],
   "metadata": {
    "collapsed": false
   }
  },
  {
   "cell_type": "markdown",
   "source": [
    "### Atribuição a Variáveis: \n",
    "Assim como você pode atribuir um número a uma variável, você pode atribuir uma função a uma variável em Kotlin. Por exemplo:"
   ],
   "metadata": {
    "collapsed": false
   }
  },
  {
   "cell_type": "code",
   "outputs": [
    {
     "name": "stdout",
     "output_type": "stream",
     "text": [
      "Olá, mundo!\r\n"
     ]
    }
   ],
   "source": [
    "val helloWorld: () -> Unit = { println(\"Olá, mundo!\") }\n",
    "helloWorld()"
   ],
   "metadata": {
    "collapsed": false,
    "ExecuteTime": {
     "end_time": "2024-03-15T02:40:31.210784700Z",
     "start_time": "2024-03-15T02:40:31.143847900Z"
    }
   },
   "execution_count": 560
  },
  {
   "cell_type": "markdown",
   "source": [
    "Neste exemplo, `helloWorld` é uma variável que armazena uma função que não recebe nenhum argumento e não retorna nenhum valor."
   ],
   "metadata": {
    "collapsed": false
   }
  },
  {
   "cell_type": "markdown",
   "source": [
    "### Funções de alta ordem\n",
    "Em Kotlin são aquelas que podem receber outras funções como argumentos e/ou retornar funções como resultado. Essa capacidade permite um alto nível de abstração e flexibilidade na programação, especialmente quando combinada com funções de primeira classe.\n",
    "\n",
    "Aqui estão alguns pontos importantes sobre funções de alta ordem em Kotlin:"
   ],
   "metadata": {
    "collapsed": false
   }
  },
  {
   "cell_type": "markdown",
   "source": [
    "#### Recebendo Funções como Argumentos:\n",
    "Uma função de alta ordem pode receber uma ou mais funções como argumentos. Isso permite que você forneça comportamentos personalizados para funções de ordem superior, adaptando-as para diferentes situações. Por exemplo:"
   ],
   "metadata": {
    "collapsed": false
   }
  },
  {
   "cell_type": "code",
   "outputs": [
    {
     "name": "stdout",
     "output_type": "stream",
     "text": [
      "15\r\n",
      "50\r\n"
     ]
    }
   ],
   "source": [
    "fun operacao(a: Int, b: Int, acao: (Int, Int) -> Int): Int {\n",
    "    return acao(a, b) \n",
    "}  \n",
    "val soma = operacao(10, 5) { x, y -> x + y }\n",
    "println(soma)\n",
    "val multiplicacao = operacao(10, 5) { x, y -> x * y }\n",
    "println(multiplicacao)"
   ],
   "metadata": {
    "collapsed": false,
    "ExecuteTime": {
     "end_time": "2024-03-15T02:40:31.337267200Z",
     "start_time": "2024-03-15T02:40:31.211784600Z"
    }
   },
   "execution_count": 561
  },
  {
   "cell_type": "markdown",
   "source": [
    "Neste exemplo, a função `operacao` recebe uma função como argumento (`acao`) e a aplica aos argumentos `a` e `b`."
   ],
   "metadata": {
    "collapsed": false
   }
  },
  {
   "cell_type": "markdown",
   "source": [
    "#### Retornando Funções:\n",
    "Uma função de alta ordem também pode retornar outra função. Isso é útil para criar funções fábrica ou para gerar comportamentos dinâmicos com base em determinadas condições. Por exemplo:"
   ],
   "metadata": {
    "collapsed": false
   }
  },
  {
   "cell_type": "code",
   "outputs": [
    {
     "name": "stdout",
     "output_type": "stream",
     "text": [
      "Esta é uma função de impressão!\r\n"
     ]
    }
   ],
   "source": [
    "fun criarFuncao(acao: String) {    \n",
    "    when (acao) {         \n",
    "        \"imprimir\" -> { println(\"Esta é uma função de impressão!\") }         \n",
    "        \"log\" -> { println(\"Esta é uma função de log!\") }         \n",
    "        else -> { println(\"Função desconhecida!\") }     \n",
    "    } \n",
    "}\n",
    "val funcaoImprimir = criarFuncao(\"imprimir\") \n",
    "funcaoImprimir"
   ],
   "metadata": {
    "collapsed": false,
    "ExecuteTime": {
     "end_time": "2024-03-15T02:40:31.445034100Z",
     "start_time": "2024-03-15T02:40:31.338276700Z"
    }
   },
   "execution_count": 562
  },
  {
   "cell_type": "markdown",
   "source": [
    "Neste exemplo, a função `criarFuncao` retorna uma função diferente com base no argumento `acao`."
   ],
   "metadata": {
    "collapsed": false
   }
  },
  {
   "cell_type": "markdown",
   "source": [
    "**Funções Anônimas e Lambdas:**\n",
    "\n",
    "Em Kotlin, é comum usar funções anônimas (também conhecidas como lambdas) ao trabalhar com funções de alta ordem. Essas são funções que não têm um nome associado e podem ser passadas diretamente como argumentos. Por exemplo:    "
   ],
   "metadata": {
    "collapsed": false
   }
  },
  {
   "cell_type": "code",
   "outputs": [
    {
     "name": "stdout",
     "output_type": "stream",
     "text": [
      "[1, 4, 9, 16, 25]\r\n"
     ]
    }
   ],
   "source": [
    "val numeros = listOf(1, 2, 3, 4, 5)\n",
    "val quadrados = numeros.map { it * it }\n",
    "println(quadrados)"
   ],
   "metadata": {
    "collapsed": false,
    "ExecuteTime": {
     "end_time": "2024-03-15T02:40:31.558224200Z",
     "start_time": "2024-03-15T02:40:31.445034100Z"
    }
   },
   "execution_count": 563
  },
  {
   "cell_type": "markdown",
   "source": [
    "Neste exemplo, a função `map` é uma função de alta ordem que recebe uma função (no caso, uma lambda) como argumento."
   ],
   "metadata": {
    "collapsed": false
   }
  },
  {
   "cell_type": "markdown",
   "source": [
    "***\n",
    "## 4 - Composição de funções\n",
    "- É uma prática comum na programação funcional construir funções complexas a partir de funções simples;\n",
    "\n",
    "- Em Kotlin, isso pode ser feito de forma elegante e expressiva, usando conceitos como função de ordem superior (high-order functions) e expressões lambda;\n",
    "\n",
    "- A composição de funções permite criar pipelines de processamento de dados, onde os dados fluem através de uma série de transformações;\n",
    "\n",
    "- A vantagem é a reutilização de código, pois as funções simples podem ser compostas para criar funcionalidades mais complexas.\n"
   ],
   "metadata": {
    "collapsed": false
   }
  },
  {
   "cell_type": "markdown",
   "source": [
    "**Funcionamento:**\n",
    "- A função `compose` recebe duas funções como entrada e retorna uma nova função que é a composição dessas duas funções;\n",
    "\n",
    "- Esta nova função aplica à segunda função a saída da primeira função, criando uma nova transformação.\n",
    "\n",
    "**Exemplo:**\n",
    "- Na função `dobrarEAdicionar10`, estamos compondo as funções `adicionar10` e `dobrar`, criando uma nova função que adiciona 10 ao dobro de um número."
   ],
   "metadata": {
    "collapsed": false
   }
  },
  {
   "cell_type": "code",
   "outputs": [
    {
     "name": "stdout",
     "output_type": "stream",
     "text": [
      "20\r\n"
     ]
    }
   ],
   "source": [
    "fun dobrar(x: Int): Int {\n",
    "    return x * 2\n",
    "}\n",
    "\n",
    "fun adicionar10(x: Int): Int {\n",
    "    return x + 10\n",
    "}\n",
    "\n",
    "fun compose(f: (Int) -> Int, g: (Int) -> Int): (Int) -> Int {\n",
    "    return { x -> f(g(x)) }\n",
    "}\n",
    "\n",
    "val dobrarEAdicionar10 = compose(::adicionar10, ::dobrar)\n",
    "\n",
    "println(dobrarEAdicionar10(5))"
   ],
   "metadata": {
    "collapsed": false,
    "ExecuteTime": {
     "end_time": "2024-03-15T02:40:31.664596700Z",
     "start_time": "2024-03-15T02:40:31.559809100Z"
    }
   },
   "execution_count": 564
  },
  {
   "cell_type": "markdown",
   "source": [
    "**Validação de entrada de dados:**\n",
    "- A função `composeValidations` aceita uma lista de funções de validação de entrada de dados;\n",
    "\n",
    "- Retorna uma nova função que valida uma entrada de dados aplicando todas as funções de validação na entrada fornecida;\n",
    "\n",
    "- A entrada é válida se todas as funções de validação retornarem true.\n",
    "\n",
    "***Exemplo:***\n",
    "- Na função `main`, estamos utilizando a composição de funções para criar uma função `isValidEmail` que valida se um e-mail é válido."
   ],
   "metadata": {
    "collapsed": false
   }
  },
  {
   "cell_type": "code",
   "outputs": [
    {
     "name": "stdout",
     "output_type": "stream",
     "text": [
      "E-mail 1 é válido? true\r\n",
      "E-mail 2 é válido? false\r\n",
      "E-mail 3 é válido? false\r\n",
      "E-mail 4 é válido? false\r\n"
     ]
    }
   ],
   "source": [
    "import java.util.*\n",
    "\n",
    "fun comporValidacoes(vararg validacoes: (String) -> Boolean): (String) -> Boolean {\n",
    "    return { input ->\n",
    "        validacoes.all { it(input) }\n",
    "    }\n",
    "}\n",
    "\n",
    "fun contemSimbolo(email: String): Boolean {\n",
    "    return \"@\" in email\n",
    "}\n",
    "\n",
    "fun contemPonto(email: String): Boolean {\n",
    "    return \".\" in email\n",
    "}\n",
    "\n",
    "fun naoEhVazio(email: String): Boolean {\n",
    "    return email.isNotEmpty()\n",
    "}\n",
    "\n",
    "fun ehMinusculo(email: String): Boolean {\n",
    "    return email == email.lowercase(Locale.getDefault())\n",
    "}\n",
    "\n",
    "val emailValido = comporValidacoes(::naoEhVazio, ::ehMinusculo, ::contemSimbolo, ::contemPonto)\n",
    "\n",
    "val email1 = \"usuario@exemplo.com\"\n",
    "val email2 = \"Usuario@Exemplo.Com\"\n",
    "val email3 = \"usuario.exemplo.com\"\n",
    "val email4 = \"\"\n",
    "\n",
    "println(\"E-mail 1 é válido? ${emailValido(email1)}\") // true\n",
    "println(\"E-mail 2 é válido? ${emailValido(email2)}\") // false\n",
    "println(\"E-mail 3 é válido? ${emailValido(email3)}\") // false\n",
    "println(\"E-mail 4 é válido? ${emailValido(email4)}\") // false"
   ],
   "metadata": {
    "collapsed": false,
    "ExecuteTime": {
     "end_time": "2024-03-15T02:40:32.057867200Z",
     "start_time": "2024-03-15T02:40:31.678166700Z"
    }
   },
   "execution_count": 565
  },
  {
   "cell_type": "markdown",
   "source": [
    "**Operações em Lista**\n",
    "- As funções `filtrarPares`, `dobrarElementos`, `ordenarDecrescente` e `removerRepetidos` realizam operações comuns em listas de números;\n",
    "\n",
    "- A função `comporOperacoes` aceita uma lista de funções de operações em lista e retorna uma nova função que aplica essas operações em sequência a uma lista fornecida.\n",
    "\n",
    "- Utilizamos a função de extensão fold na lista de operações. O fold começa com o valor inicial (lista) e itera sobre cada operação na lista de operações. \n",
    "\n",
    "- No final do fold, teremos o resultado final após todas as operações serem aplicadas\n",
    "\n",
    "- O resultado final será o retorno da função anônima. \n",
    "\n",
    "- A função anônima resultante recebe uma lista como argumento e retorna o resultado das operações aplicadas a essa lista.\n",
    "\n",
    "***Exemplo:***\n",
    "- Na função `main`, estamos utilizando a composição de funções para criar uma função `operacoes` que executa várias operações em uma lista de números."
   ],
   "metadata": {
    "collapsed": false
   }
  },
  {
   "cell_type": "code",
   "outputs": [
    {
     "name": "stderr",
     "output_type": "stream",
     "text": [
      "Line_544.jupyter.kts (1:25 - 34) This class shouldn't be used in Kotlin. Use kotlin.collections.List or kotlin.collections.MutableList instead.\n",
      "Line_544.jupyter.kts (1:37 - 46) This class shouldn't be used in Kotlin. Use kotlin.collections.List or kotlin.collections.MutableList instead.\n",
      "Line_544.jupyter.kts (2:12 - 40) Type mismatch: inferred type is kotlin.collections.List<Int!> but java.util.List<Int> was expected\n",
      "Line_544.jupyter.kts (2:18 - 40) Type mismatch: inferred type is kotlin.collections.List<Int!> but java.util.List<Int> was expected\n",
      "Line_544.jupyter.kts (5:28 - 37) This class shouldn't be used in Kotlin. Use kotlin.collections.List or kotlin.collections.MutableList instead.\n",
      "Line_544.jupyter.kts (5:40 - 49) This class shouldn't be used in Kotlin. Use kotlin.collections.List or kotlin.collections.MutableList instead.\n",
      "Line_544.jupyter.kts (6:12 - 32) Type mismatch: inferred type is kotlin.collections.List<Int> but java.util.List<Int> was expected\n",
      "Line_544.jupyter.kts (6:18 - 32) Type mismatch: inferred type is kotlin.collections.List<Int> but java.util.List<Int> was expected\n",
      "Line_544.jupyter.kts (9:31 - 40) This class shouldn't be used in Kotlin. Use kotlin.collections.List or kotlin.collections.MutableList instead.\n",
      "Line_544.jupyter.kts (9:43 - 52) This class shouldn't be used in Kotlin. Use kotlin.collections.List or kotlin.collections.MutableList instead.\n",
      "Line_544.jupyter.kts (10:12 - 36) Type mismatch: inferred type is kotlin.collections.List<Int!> but java.util.List<Int> was expected\n",
      "Line_544.jupyter.kts (10:18 - 36) Type mismatch: inferred type is kotlin.collections.List<Int!> but java.util.List<Int> was expected\n",
      "Line_544.jupyter.kts (13:29 - 38) This class shouldn't be used in Kotlin. Use kotlin.collections.List or kotlin.collections.MutableList instead.\n",
      "Line_544.jupyter.kts (13:41 - 50) This class shouldn't be used in Kotlin. Use kotlin.collections.List or kotlin.collections.MutableList instead.\n",
      "Line_544.jupyter.kts (14:12 - 28) Type mismatch: inferred type is kotlin.collections.List<Int!> but java.util.List<Int> was expected\n",
      "Line_544.jupyter.kts (14:18 - 28) Type mismatch: inferred type is kotlin.collections.List<Int!> but java.util.List<Int> was expected\n",
      "Line_544.jupyter.kts (17:40 - 49) This class shouldn't be used in Kotlin. Use kotlin.collections.List or kotlin.collections.MutableList instead.\n",
      "Line_544.jupyter.kts (17:54 - 63) This class shouldn't be used in Kotlin. Use kotlin.collections.List or kotlin.collections.MutableList instead.\n",
      "Line_544.jupyter.kts (17:67 - 76) This class shouldn't be used in Kotlin. Use kotlin.collections.List or kotlin.collections.MutableList instead.\n",
      "Line_544.jupyter.kts (17:81 - 90) This class shouldn't be used in Kotlin. Use kotlin.collections.List or kotlin.collections.MutableList instead."
     ]
    }
   ],
   "source": [
    "fun filtrarPares(lista: List<Int>): List<Int> {\n",
    "    return lista.filter { it % 2 == 0 }\n",
    "}\n",
    "\n",
    "fun dobrarElementos(lista: List<Int>): List<Int> {\n",
    "    return lista.map { it * 2 }\n",
    "}\n",
    "\n",
    "fun ordenarDecrescente(lista: List<Int>): List<Int> {\n",
    "    return lista.sortedDescending()\n",
    "}\n",
    "\n",
    "fun removerRepetidos(lista: List<Int>): List<Int> {\n",
    "    return lista.distinct()\n",
    "}\n",
    "\n",
    "fun comporOperacoes(vararg operacoes: (List<Int>) -> List<Int>): (List<Int>) -> List<Int> {\n",
    "    return { lista ->\n",
    "        operacoes.fold(lista) { acc, operacao ->\n",
    "            operacao(acc)\n",
    "        }\n",
    "    }\n",
    "}\n",
    "\n",
    "val numeros = listOf(1, 2, 3, 4, 5, 6, 7, 8, 9, 10)\n",
    "\n",
    "println(\"Lista original: $numeros\")\n",
    "\n",
    "val operacoes = comporOperacoes(::filtrarPares, ::dobrarElementos, ::ordenarDecrescente, ::removerRepetidos)\n",
    "val resultado = operacoes(numeros)\n",
    "\n",
    "println(\"Lista após as operações: $resultado\")"
   ],
   "metadata": {
    "collapsed": false,
    "ExecuteTime": {
     "end_time": "2024-03-15T02:40:32.495915200Z",
     "start_time": "2024-03-15T02:40:32.059867Z"
    }
   },
   "execution_count": 566
  },
  {
   "cell_type": "markdown",
   "source": [
    "**Composição de funções de forma Implícita**\n",
    "- Uso de múltiplas funções em sequência, onde a saída de uma função é passada como entrada para a próxima função, sem a necessidade de uma função de composição explícita.\n",
    "\n",
    "- Não há uma função de composição explícita como compose, mas ainda estamos combinando as operações de forma que uma função depende do resultado da anterior.\n",
    "\n",
    "***Funcionamento:***\n",
    "- filter(::ehPar): A função filter utiliza a função ::ehPar como predicado. Isso filtra apenas os números pares da lista original.\n",
    "\n",
    "- map(::quadrado): A função map aplica a função ::quadrado a cada elemento da lista filtrada, calculando o quadrado de cada número par.\n",
    "\n",
    "- sum(): Função de extensão em Kotlin que retorna a soma de todos os elementos de uma lista de números.\n",
    "\n",
    "***Exemplo:***\n",
    "- A função somaDosQuadradosDosPares é uma composição de funções, pois é construída por meio da combinação de várias chamadas de funções (filter, map e sum), onde a saída de uma função é usada como entrada para a próxima função."
   ],
   "metadata": {
    "collapsed": false
   }
  },
  {
   "cell_type": "code",
   "outputs": [
    {
     "name": "stdout",
     "output_type": "stream",
     "text": [
      "Soma dos quadrados dos números pares: 220\r\n"
     ]
    }
   ],
   "source": [
    "fun quadrado(x: Int): Int {\n",
    "    return x * x\n",
    "}\n",
    "\n",
    "fun ehPar(x: Int): Boolean {\n",
    "    return x % 2 == 0\n",
    "}\n",
    "\n",
    "fun somaDosQuadradosDosPares(numeros: List<Int>): Int {\n",
    "    return numeros.filter(::ehPar).map(::quadrado).sum()\n",
    "}\n",
    "\n",
    "val numeros = listOf(1, 2, 3, 4, 5, 6, 7, 8, 9, 10)\n",
    "val resultado = somaDosQuadradosDosPares(numeros)\n",
    "println(\"Soma dos quadrados dos números pares: $resultado\")"
   ],
   "metadata": {
    "collapsed": false,
    "ExecuteTime": {
     "end_time": "2024-03-15T02:40:33.423575800Z",
     "start_time": "2024-03-15T02:40:32.497421100Z"
    }
   },
   "execution_count": 567
  },
  {
   "cell_type": "markdown",
   "source": [
    "***\n",
    "## Prática\n",
    "Atividade prática sobre Programação Funcional"
   ],
   "metadata": {
    "collapsed": false
   }
  },
  {
   "cell_type": "markdown",
   "source": [
    "### Questão 1\n",
    "Suponha que estamos desenvolvendo um aplicativo de gerenciamento de produtos. Cada produto tem um nome e um preço. \n",
    "- Crie uma classe chamada Produtos com propriedades mutáveis para o nome(String) e o preço(Double);\n",
    "- Crie duas variáveis `val` com instâncias diferêntes de Produto: `produto1` e `produto2`;\n",
    "- Mostre o conteúdo salvo;\n",
    "- Edite o preço salvo no `produto2` e mostre o resultado;\n",
    "- Crie uma variável `produto3` que armazenará o mesmo produto da variável `produto1` com o dobro de seu preço;\n",
    "- Mostre o resultado final."
   ],
   "metadata": {
    "collapsed": false
   }
  },
  {
   "cell_type": "markdown",
   "source": [
    "### Questão 2\n",
    "Dada a classe `Turma` com os atributos `nome:String` e `notas:mutableListOf<Double>`, crie e aplique dois métodos:\n",
    "- `adicionarNota`: Receberá uma lista mutável de notas e as acrescentará à lista de notas da instância;\n",
    "- `mediaNotas`: Retornará a média aritmética das notas da turma;\n",
    "\n",
    "Após a criação dos métodos:\n",
    "- Implemente o método `mediaNotas` no `toString` para mostrar a média das notas;\n",
    "- Crie uma instância da classe `Turma` e mostre o conteúdo inicial;\n",
    "- Use o método `adicionarNota` para acrescentar uma lista notas;\n",
    "- Mostre o resultado da instância chamando novamente o método `toString`."
   ],
   "metadata": {
    "collapsed": false
   }
  },
  {
   "cell_type": "markdown",
   "source": [
    "### Questão 3\n",
    "\n",
    "Implemente uma função de alta ordem chamada `calcular`, que recebe dois números inteiros e uma função de operação matemática como parâmetros. Esta função deve aplicar a operação aos dois números e retornar o resultado."
   ],
   "metadata": {
    "collapsed": false
   }
  },
  {
   "cell_type": "markdown",
   "source": [
    "### Questão 4\n",
    "- Defina uma função de ordem superior `compor` que irá receber duas funções (que\n",
    "recebem um inteiro como entrada e retornam um inteiro) como entrada e retorna uma nova\n",
    "função, que é a composição dessas duas funções.\n",
    "1. Defina uma função `triplicar` que triplica um número inteiro.\n",
    "2. Defina uma função `subtrair5` que subtrai 5 de um número inteiro.\n",
    "3. Utilize a função `compor` para criar uma nova função chamada `triplicarESubtrair5` que\n",
    "triplica um número e depois subtrai 5.\n",
    "- Teste a função criada: A função primeiro deve triplicar e depois deve subtrair por 5"
   ],
   "metadata": {
    "collapsed": false
   }
  },
  {
   "cell_type": "markdown",
   "source": [
    "***\n",
    "## Referências\n",
    "\n",
    "1 - https://medium.com/@regmoraes/programa%C3%A7%C3%A3o-funcional-em-kotlin-parte-1-dd63fbd42a6e\n",
    "2 - https://doordash.engineering/2022/03/22/how-to-leverage-functional-programming-in-kotlin-to-write-better-cleaner-code/\n",
    "3 - https://kotlinlang.org/docs/lambdas.html\n",
    "4 - https://www.freecodecamp.org/news/my-favorite-examples-of-functional-programming-in-kotlin-e69217b39112/"
   ],
   "metadata": {
    "collapsed": false
   }
  }
 ],
 "metadata": {
  "kernelspec": {
   "display_name": "Kotlin",
   "language": "kotlin",
   "name": "kotlin"
  },
  "language_info": {
   "name": "kotlin",
   "version": "1.9.0",
   "mimetype": "text/x-kotlin",
   "file_extension": ".kt",
   "pygments_lexer": "kotlin",
   "codemirror_mode": "text/x-kotlin",
   "nbconvert_exporter": ""
  },
  "ktnbPluginMetadata": {
   "projectDependencies": [
    "introducao-kotlin"
   ]
  }
 },
 "nbformat": 4,
 "nbformat_minor": 0
}
