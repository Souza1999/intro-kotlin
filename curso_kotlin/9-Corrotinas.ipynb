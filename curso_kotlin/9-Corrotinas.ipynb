{
 "cells": [
  {
   "cell_type": "markdown",
   "source": [
    "![Logo do Kotlin](https://upload.wikimedia.org/wikipedia/commons/thumb/d/d4/Kotlin_logo.svg/2560px-Kotlin_logo.svg.png)"
   ],
   "metadata": {
    "collapsed": false
   }
  },
  {
   "cell_type": "markdown",
   "source": [
    "# Corrotinas\n",
    "\n",
    "- Conceito: Corrotinas são uma maneira de escrever código assíncrono de maneira sequencial.\n",
    "- Uso: As corrotinas são usadas para simplificar o código que é executado de forma assíncrona.\n",
    "- Suspensão de funções: As funções de suspensão são funções que podem ser pausadas e retomadas mais tarde.\n",
    "- Jobs, scopes: Jobs representam uma tarefa de computação que pode ser cancelada. Scopes representam um determinado contexto em que as corrotinas são lançadas.\n",
    "\n",
    "Este documento foi desenvolvido pelos seguintes alunos de TSI do IFPB, sob subervisão do professor Gustavo Wagner (2024.1):\n",
    "1. Alic Victor\n",
    "2. Caio Bernardelli\n",
    "3. Flávio Henrique\n",
    "4. Juliana Ferreira\n",
    "5. Ricardo Luiz"
   ],
   "metadata": {
    "collapsed": false
   }
  },
  {
   "cell_type": "markdown",
   "source": [
    "## 1. Conceito\n",
    "As corrotinas em Kotlin são uma forma de lidar com tarefas assíncronas de uma maneira muito mais fácil e organizada.\n",
    "Em vez de lidar com callbacks ou objetos complexos para gerenciar threads, você pode usar corrotinas para escrever código mais simples e \n",
    "fácil de entender.\n",
    "\n",
    "### 1.1. Diferença de Corrotinas e Threads\n",
    "As corrotinas são uma abstração mais leve e flexível para lidar com programação assíncrona e concorrência em comparação com as threads. \n",
    "Elas permitem escrever código concorrente de forma mais simples e eficiente, enquanto as threads são mais pesadas e geralmente \n",
    "são usadas quando é necessário um nível mais baixo de controle sobre a concorrência.\n",
    "\n",
    "#### Exemplo de corrotinas"
   ],
   "metadata": {
    "collapsed": false
   }
  },
  {
   "cell_type": "code",
   "outputs": [
    {
     "name": "stdout",
     "output_type": "stream",
     "text": [
      "Corrotina iniciada. Aguardando...\r\n",
      "Corrotina executada!\r\n",
      "Fim do programa.\r\n"
     ]
    }
   ],
   "source": [
    "import kotlinx.coroutines.*\n",
    "\n",
    "fun main() {\n",
    "    // Inicia uma corrotina\n",
    "    GlobalScope.launch {\n",
    "        // Corpo da corrotina\n",
    "        delay(1000) // Simula uma operação demorada por 1 segundo\n",
    "        println(\"Corrotina executada!\")\n",
    "    }\n",
    "\n",
    "    println(\"Corrotina iniciada. Aguardando...\")\n",
    "    // Aguarda um pouco para a corrotina ter tempo de executar\n",
    "    Thread.sleep(2000)\n",
    "    println(\"Fim do programa.\")\n",
    "}\n",
    "\n",
    "main()"
   ],
   "metadata": {
    "collapsed": false,
    "ExecuteTime": {
     "end_time": "2024-03-15T18:43:11.429079800Z",
     "start_time": "2024-03-15T18:43:09.266660Z"
    }
   },
   "execution_count": 11
  },
  {
   "cell_type": "markdown",
   "source": [
    "Neste exemplo, a corrotina é iniciada com GlobalScope.launch. Ela executa uma operação de atraso (representando uma tarefa assíncrona) e \n",
    "imprime uma mensagem. Enquanto a corrotina está fazendo sua tarefa, o programa principal continua executando. Depois de um tempo, o programa termina."
   ],
   "metadata": {
    "collapsed": false
   }
  },
  {
   "cell_type": "markdown",
   "source": [
    "### 1.2. Principais problemas que as corrotinas resolvem\n",
    "\n",
    "#### 1.2.1. Facilidade de uso\n",
    "Trabalhar com threads diretamente pode ser complicado e propenso a erros. As corrotinas oferecem uma abstração mais simples \n",
    "para lidar com tarefas assíncronas, tornando o código mais legível e fácil de manter.\n",
    "\n",
    "#### 1.2.2. Evitar bloqueios\n",
    "Em muitos casos, quando você utiliza diretamente threads, pode ocorrer bloqueio, onde uma thread fica parada esperando outra finalizar sua tarefa. \n",
    "As corrotinas em Kotlin evitam esse problema ao permitir a suspensão e retomada de execuções de forma eficiente, sem bloquear a thread principal.\n",
    "\n",
    "#### 1.2.3. Gerenciamento automático \n",
    "Com as corrotinas, você não precisa se preocupar tanto com a criação e gerenciamento manual de threads. O Kotlin cuida disso para você, permitindo que você se concentre na lógica da sua aplicação.\n",
    "\n",
    "#### 1.2.4. Melhor desempenho\n",
    "As corrotinas podem ser mais eficientes em termos de desempenho do que a criação excessiva de threads. Elas podem ser executadas em um número menor de threads e são capazes de reutilizar as threads existentes de forma mais inteligente.\n",
    "\n",
    "#### 1.2.5. Tratamento simplificado de concorrência\n",
    "Com corrotinas, você pode escrever código concorrente sem se preocupar tanto com questões como sincronização de dados compartilhados entre threads. O modelo de programação assíncrono oferecido pelas corrotinas permite escrever código mais simples e menos sujeito a erros.\n"
   ],
   "metadata": {
    "collapsed": false
   }
  },
  {
   "cell_type": "markdown",
   "source": [
    "### 1.3. Conceitos-chave\n",
    "\n",
    "#### 1.3.1. Coroutine Scope\n",
    "Um escopo de corrotina é um contexto no qual as corrotinas são lançadas e executadas. Ele gerencia o ciclo de vida das corrotinas e fornece um ambiente seguro para a execução assíncrona. O escopo de corrotina mais comum é o GlobalScope, que é global para toda a aplicação. No entanto, é recomendável criar escopos de corrotina específicos para diferentes partes da sua aplicação para melhor controle e gerenciamento.\n",
    "\n",
    "#### 1.3.2. Coroutine Launch\n",
    "O lançamento de corrotinas é a maneira de iniciar a execução de uma corrotina em um determinado escopo. Isso é feito usando a função launch, que recebe um bloco de código como parâmetro. Dentro deste bloco, você pode escrever a lógica da corrotina, incluindo qualquer operação assíncrona que precise ser realizada."
   ],
   "metadata": {
    "collapsed": false
   }
  },
  {
   "cell_type": "code",
   "outputs": [
    {
     "name": "stdout",
     "output_type": "stream",
     "text": [
      "Corrotina iniciada. Aguardando...\r\n",
      "Corrotina executada!\r\n",
      "Fim do programa.\r\n"
     ]
    }
   ],
   "source": [
    "import kotlinx.coroutines.*\n",
    "\n",
    "fun main() {\n",
    "    // Inicia uma corrotina usando launch\n",
    "    GlobalScope.launch {\n",
    "        // Corpo da corrotina\n",
    "        delay(1000) // Simula uma operação demorada por 1 segundo\n",
    "        println(\"Corrotina executada!\")\n",
    "    }\n",
    "\n",
    "    println(\"Corrotina iniciada. Aguardando...\")\n",
    "    // Aguarda um pouco para a corrotina ter tempo de executar\n",
    "    Thread.sleep(2000)\n",
    "    println(\"Fim do programa.\")\n",
    "}\n",
    "\n",
    "main()"
   ],
   "metadata": {
    "collapsed": false,
    "ExecuteTime": {
     "end_time": "2024-03-15T18:43:13.651196900Z",
     "start_time": "2024-03-15T18:43:11.435083200Z"
    }
   },
   "execution_count": 12
  },
  {
   "cell_type": "markdown",
   "source": [
    "* Usamos GlobalScope.launch para iniciar uma corrotina global.\n",
    "* Dentro da corrotina, usamos delay para pausar a execução por 1 segundo (simulando uma operação demorada) e, em seguida, imprimimos uma mensagem.\n",
    "* Fora da corrotina, imprimimos uma mensagem indicando que a corrotina foi iniciada.\n",
    "* Aguardamos um pouco na thread principal para garantir que a corrotina tenha tempo de executar.\n",
    "* Por fim, imprimimos uma mensagem indicando o fim do programa.\n",
    "\n",
    "#### 1.3.3. Suspending and Resuming\n",
    "Uma característica fundamental das corrotinas é a capacidade de suspender e retomar a execução. Isso é feito usando funções suspenas (suspended functions), que são marcadas com a palavra-chave suspend. Quando uma função suspensa é chamada dentro de uma corrotina, ela pode pausar a execução da corrotina até que uma determinada condição seja satisfeita (por exemplo, o término de uma operação de I/O). Uma vez que a condição é satisfeita, a execução da corrotina é retomada a partir do ponto de suspensão.\n",
    "\n",
    "#### 1.3.4. Coroutine Context\n",
    "O contexto de corrotina é um conjunto de elementos que define o ambiente de execução de uma corrotina, como o escopo em que ela está sendo executada, o despachador (dispatcher) que controla em qual thread a corrotina será executada, e outros atributos como exceções e propriedades de depuração."
   ],
   "metadata": {
    "collapsed": false
   }
  },
  {
   "cell_type": "code",
   "outputs": [
    {
     "name": "stdout",
     "output_type": "stream",
     "text": [
      "Corrotina iniciada. Aguardando...\r\n",
      "Corrotina iniciada. Aguardando 2...\r\n",
      "Corrotina iniciada. Aguardando 3...\r\n",
      "Corrotina iniciada. Aguardando 4...\r\n",
      "Corrotina executada no contexto: [StandaloneCoroutine{Active}@6bf3f4e3, Dispatchers.Default]\r\n",
      "Fim do programa.\r\n"
     ]
    }
   ],
   "source": [
    "import kotlinx.coroutines.*\n",
    "\n",
    "fun main() {\n",
    "    // Define o contexto para a corrotina\n",
    "    val context = Dispatchers.Default\n",
    "    \n",
    "    // Inicia uma corrotina com o contexto especificado\n",
    "    GlobalScope.launch(context) {\n",
    "        // Corpo da corrotina\n",
    "        println(\"Corrotina executada no contexto: $coroutineContext\")\n",
    "    }\n",
    "\n",
    "    println(\"Corrotina iniciada. Aguardando...\")\n",
    "    // Aguarda um pouco para a corrotina ter tempo de executar\n",
    "    Thread.sleep(200)\n",
    "    println(\"Fim do programa.\")\n",
    "}\n",
    "\n",
    "main()"
   ],
   "metadata": {
    "collapsed": false,
    "ExecuteTime": {
     "end_time": "2024-03-15T18:43:14.097614600Z",
     "start_time": "2024-03-15T18:43:13.656692800Z"
    }
   },
   "execution_count": 13
  },
  {
   "cell_type": "markdown",
   "source": [
    "* Utilizamos Dispatchers.Default para definir o contexto da corrotina. Esse contexto indica que a corrotina será executada em um pool de threads específico para tarefas de média duração.\n",
    "* Em seguida, usamos GlobalScope.launch para iniciar uma corrotina com o contexto especificado.\n",
    "* Dentro da corrotina, imprimimos o contexto atual usando coroutineContext.\n",
    "* Finalmente, aguardamos um pouco na thread principal e imprimimos uma mensagem indicando o fim do programa.\n",
    "\n",
    "#### 1.3.5. Dispatchers\n",
    "Os despachadores controlam em qual thread uma corrotina será executada. Kotlin fornece vários despachadores embutidos, como Dispatchers.Main para a thread principal da interface do usuário em aplicativos Android, Dispatchers.IO para operações de entrada/saída (I/O) de longa duração, e Dispatchers.Default para tarefas computacionais intensivas. Você também pode criar seus próprios despachadores personalizados conforme necessário."
   ],
   "metadata": {
    "collapsed": false
   }
  },
  {
   "cell_type": "code",
   "outputs": [
    {
     "name": "stdout",
     "output_type": "stream",
     "text": [
      "Corrotina iniciada. Aguardando...\r\n",
      "Corrotina executada no despachante: [StandaloneCoroutine{Active}@2866441, Dispatchers.IO]\r\n",
      "Fim do programa.\r\n"
     ]
    }
   ],
   "source": [
    "import kotlinx.coroutines.*\n",
    "\n",
    "fun main() {\n",
    "    // Inicia uma corrotina com um despachante específico\n",
    "    GlobalScope.launch(Dispatchers.IO) {\n",
    "        // Corpo da corrotina\n",
    "        println(\"Corrotina executada no despachante: ${coroutineContext}\")\n",
    "    }\n",
    "\n",
    "    println(\"Corrotina iniciada. Aguardando...\")\n",
    "    // Aguarda um pouco para a corrotina ter tempo de executar\n",
    "    Thread.sleep(200)\n",
    "    println(\"Fim do programa.\")\n",
    "}\n",
    "\n",
    "main()"
   ],
   "metadata": {
    "collapsed": false,
    "ExecuteTime": {
     "end_time": "2024-03-15T18:43:14.480367300Z",
     "start_time": "2024-03-15T18:43:14.104483900Z"
    }
   },
   "execution_count": 14
  },
  {
   "cell_type": "markdown",
   "source": [
    "* Usamos Dispatchers.IO para especificar que a corrotina será executada em um despachante otimizado para operações de entrada/saída (I/O), como leitura e escrita de arquivos ou acesso a rede.\n",
    "* Em seguida, usamos GlobalScope.launch para iniciar uma corrotina com o despachante especificado.\n",
    "* Dentro da corrotina, imprimimos o despachante atual usando coroutineContext.dispatcher.\n",
    "* Por fim, aguardamos um pouco na thread principal e imprimimos uma mensagem indicando o fim do programa.\n",
    "\n",
    "#### 1.3.6. Gerenciamento de Concorrência e Comunicação entre Corrotinas\n",
    "As corrotinas facilitam a escrita de código concorrente, permitindo que você execute várias tarefas simultaneamente e coordene sua execução de forma eficiente. Kotlin fornece uma variedade de mecanismos para comunicação entre corrotinas, como canais (channels), semáforos (semaphores), e outras estruturas de dados reativas para troca de mensagens e sincronização de estado entre corrotinas."
   ],
   "metadata": {
    "collapsed": false
   }
  },
  {
   "cell_type": "code",
   "outputs": [
    {
     "name": "stdout",
     "output_type": "stream",
     "text": [
      "Valor recebido: 1\r\n",
      "Valor recebido: 2\r\n",
      "Valor recebido: 3\r\n",
      "Valor recebido: 4\r\n",
      "Valor recebido: 5\r\n",
      "Todos os valores foram recebidos\r\n"
     ]
    }
   ],
   "source": [
    "import kotlinx.coroutines.*\n",
    "import kotlinx.coroutines.channels.*\n",
    "\n",
    "fun main() {\n",
    "    // Cria um canal para comunicação entre corrotinas\n",
    "    val channel = Channel<Int>()\n",
    "\n",
    "    // Inicia uma corrotina para produzir valores e enviar para o canal\n",
    "    GlobalScope.launch {\n",
    "        repeat(5) {\n",
    "            delay(100) // Simula uma produção de valor demorada\n",
    "            channel.send(it + 1) // Envia o próximo número para o canal\n",
    "        }\n",
    "        channel.close() // Fecha o canal após todos os valores terem sido enviados\n",
    "    }\n",
    "\n",
    "    // Inicia uma corrotina para consumir os valores do canal\n",
    "    GlobalScope.launch {\n",
    "        for (value in channel) {\n",
    "            println(\"Valor recebido: $value\") // Imprime o valor recebido\n",
    "        }\n",
    "        println(\"Todos os valores foram recebidos\")\n",
    "    }\n",
    "\n",
    "    // Aguarda um pouco para a corrotina ter tempo de executar\n",
    "    Thread.sleep(1000)\n",
    "}\n",
    "\n",
    "main()"
   ],
   "metadata": {
    "collapsed": false,
    "ExecuteTime": {
     "end_time": "2024-03-15T18:43:15.942986100Z",
     "start_time": "2024-03-15T18:43:14.488098100Z"
    }
   },
   "execution_count": 15
  },
  {
   "cell_type": "markdown",
   "source": [
    "* Criamos um canal (Channel) para facilitar a comunicação entre duas corrotinas.\n",
    "* Uma corrotina é iniciada para produzir valores e enviar para o canal usando channel.send(value). Neste exemplo, produzimos os números de 1 a 5 e os enviamos para o canal.\n",
    "* Outra corrotina é iniciada para consumir os valores do canal usando um loop for sobre o canal. Ele imprime os valores recebidos.\n",
    "* Após todos os valores terem sido recebidos, a corrotina consumidora imprime uma mensagem indicando que todos os valores foram recebidos.\n",
    "* Por fim, aguardamos um pouco na thread principal para garantir que as corrotinas tenham tempo de executar antes do término do programa."
   ],
   "metadata": {
    "collapsed": false
   }
  },
  {
   "cell_type": "markdown",
   "source": [
    "## 2. Uso\n",
    "\n",
    "Agora que já sabemos o que são corrotinas e como elas funcionam, vamos abordar sobre sua vasta biblioteca e como ela pode ser útil para os seus futuros códigos, caro programador!\n",
    "\n",
    "### Delay()\n",
    "\n",
    "Suspende a execução da corrotina por um tempo ótimo para introduzir atrasos controlados de código\n",
    "\n",
    "### withTimeout() e withTimeoutOrNull()\n",
    "\n",
    "Permitem definir um limite de tempo para a execução de uma corrotina. Se a corrotina não for concluída dentro do tempo especificado, uma exceção será lançada (com withTimeout()) ou null será retornado (com withTimeoutOrNull()). Isso é útil para evitar que corrotinas fiquem presas indefinidamente."
   ],
   "metadata": {
    "collapsed": false
   }
  },
  {
   "cell_type": "code",
   "outputs": [
    {
     "name": "stdout",
     "output_type": "stream",
     "text": [
      "Início do programa\r\n",
      "Tempo limite excedido ao obter os dados do usuário\r\n",
      "Fim do programa\r\n"
     ]
    }
   ],
   "source": [
    "import kotlinx.coroutines.*\n",
    "\n",
    "suspend fun fetchUserData(): String {\n",
    "    delay(3000) // Simula uma operação de rede demorada\n",
    "    return \"Dados do usuário obtidos\"\n",
    "}\n",
    "\n",
    "suspend fun fetchProductData(): String {\n",
    "    delay(1500) // Simula outra operação de rede demorada\n",
    "    return \"Dados do produto obtidos\"\n",
    "}\n",
    "\n",
    "fun main() = runBlocking {\n",
    "    println(\"Início do programa\")\n",
    "\n",
    "    try {\n",
    "        coroutineScope {\n",
    "            // Dentro do escopo de coroutineScope, podemos chamar funções suspensas diretamente\n",
    "            val userData = withTimeout(2000) { fetchUserData() } // Limite de tempo de 2 segundos\n",
    "            val productData = fetchProductData()\n",
    "\n",
    "            // Aguarda a conclusão da corrotina fetchProductData e obtém seu resultado\n",
    "            println(userData)\n",
    "            println(productData)\n",
    "        }\n",
    "    } catch (e: TimeoutCancellationException) {\n",
    "        println(\"Tempo limite excedido ao obter os dados do usuário\")\n",
    "    }\n",
    "\n",
    "    println(\"Fim do programa\")\n",
    "}\n",
    "\n",
    "main()"
   ],
   "metadata": {
    "collapsed": false,
    "ExecuteTime": {
     "end_time": "2024-03-15T18:43:18.432455500Z",
     "start_time": "2024-03-15T18:43:15.950464Z"
    }
   },
   "execution_count": 16
  },
  {
   "cell_type": "markdown",
   "source": [
    "### coroutineScope{}\n",
    "\n",
    "Este é muito importante! Caso queira criar mais de uma corrotoina, precisará de um construtor de corrotina, pois elas segue um príncipio de simultaneidade estruturada. O CoroutineScope como o nome já diz, cria um escopo de corrotina que só deixa a thread terminar caso todas as suas corrotinas sejam concluídas ou uma delas acabe falhando."
   ],
   "metadata": {
    "collapsed": false
   }
  },
  {
   "cell_type": "code",
   "outputs": [
    {
     "name": "stdout",
     "output_type": "stream",
     "text": [
      "Início do programa\r\n",
      "Uma das corrotinas falhou: Erro ao obter dados do usuário\r\n",
      "Fim do programa\r\n"
     ]
    }
   ],
   "source": [
    "import kotlinx.coroutines.*\n",
    "\n",
    "suspend fun fetchUserData(): String {\n",
    "    delay(2000) // Simula uma operação de rede demorada\n",
    "    throw RuntimeException(\"Erro ao obter dados do usuário\")\n",
    "}\n",
    "\n",
    "suspend fun fetchProductData(): String {\n",
    "    delay(1500) // Simula outra operação de rede demorada\n",
    "    return \"Dados do produto obtidos\"\n",
    "}\n",
    "\n",
    "fun main() = runBlocking {\n",
    "    println(\"Início do programa\")\n",
    "\n",
    "    try {\n",
    "        coroutineScope {\n",
    "            // Dentro do escopo de coroutineScope, podemos chamar funções suspensas diretamente\n",
    "            val userData = async { fetchUserData() }\n",
    "            val productData = async { fetchProductData() }\n",
    "\n",
    "            // Aguarda a conclusão de ambas as corrotinas e obtém seus resultados\n",
    "            println(userData.await())\n",
    "            println(productData.await())\n",
    "        }\n",
    "    } catch (e: Exception) {\n",
    "        println(\"Uma das corrotinas falhou: ${e.message}\")\n",
    "    }\n",
    "\n",
    "    println(\"Fim do programa\")\n",
    "}\n",
    "\n",
    "main()"
   ],
   "metadata": {
    "collapsed": false,
    "ExecuteTime": {
     "end_time": "2024-03-15T18:43:20.947028700Z",
     "start_time": "2024-03-15T18:43:18.439759800Z"
    }
   },
   "execution_count": 17
  },
  {
   "cell_type": "markdown",
   "source": [
    "### Funções extensões do coroutineScope\n",
    "\n",
    "Como uma das principais funções das corrotinas é serem acionadas assincronamente, o CoroutineScope possui diversas extensões e funções direcionadas a ele.\n",
    "\n",
    "#### Async() e Await()\n",
    "\n",
    "São a dupla inseparável. Enquanto o async() é usado para iniciar a corrotina, o await() é usado para fazer com que a função principal espere e receba o valor gerado pela corrotina do async()."
   ],
   "metadata": {
    "collapsed": false
   }
  },
  {
   "cell_type": "code",
   "outputs": [
    {
     "name": "stdout",
     "output_type": "stream",
     "text": [
      "Início da solicitação de dados\r\n",
      "Dados obtidos: Primeiros dados recuperados e Segundos dados recuperados\r\n",
      "Fim da solicitação de dados\r\n"
     ]
    }
   ],
   "source": [
    "import kotlinx.coroutines.*\n",
    "\n",
    "suspend fun fetchFirstData(): String {\n",
    "    delay(1000) // Simula uma operação de I/O ou processamento longo\n",
    "    return \"Primeiros dados recuperados\"\n",
    "}\n",
    "\n",
    "suspend fun fetchSecondData(): String {\n",
    "    delay(1500) // Simula outra operação de I/O ou processamento longo\n",
    "    return \"Segundos dados recuperados\"\n",
    "}\n",
    "\n",
    "fun main() = runBlocking {\n",
    "    println(\"Início da solicitação de dados\")\n",
    "\n",
    "    // Chama duas funções suspensas em paralelo e espera pelos resultados\n",
    "    val firstDeferred = async { fetchFirstData() }\n",
    "    val secondDeferred = async { fetchSecondData() }\n",
    "\n",
    "    // Espera pelos resultados e imprime-os\n",
    "    val firstData = firstDeferred.await()\n",
    "    val secondData = secondDeferred.await()\n",
    "\n",
    "    println(\"Dados obtidos: $firstData e $secondData\")\n",
    "\n",
    "    println(\"Fim da solicitação de dados\")\n",
    "}\n",
    "\n",
    "main()"
   ],
   "metadata": {
    "collapsed": false,
    "ExecuteTime": {
     "end_time": "2024-03-15T18:43:22.724872Z",
     "start_time": "2024-03-15T18:43:20.953464300Z"
    }
   },
   "execution_count": 18
  },
  {
   "cell_type": "markdown",
   "source": [
    "#### Launch()\n",
    "\n",
    "O launch() é usado para lançar uma corrotina quando não há a necessidade de retornar uma resposta. A corrotina roda de forma assíncrona em segundo plano."
   ],
   "metadata": {
    "collapsed": false
   }
  },
  {
   "cell_type": "code",
   "outputs": [
    {
     "name": "stdout",
     "output_type": "stream",
     "text": [
      "Bem-vindo à batalha!\r\n",
      "Personagem 1 está atacando com 20 de dano!\r\n",
      "Personagem 2 está atacando com 25 de dano!\r\n",
      "Personagem 1 está se defendendo com 10 de defesa!\r\n",
      "Personagem 2 está se defendendo com 5 de defesa!\r\n",
      "Personagem 1 está atacando com 15 de dano!\r\n",
      "Personagem 2 está atacando com 10 de dano!\r\n",
      "A batalha terminou!\r\n"
     ]
    }
   ],
   "source": [
    "import kotlinx.coroutines.*\n",
    "\n",
    "// Função para simular um ataque\n",
    "suspend fun attack(character: String, damage: Int) {\n",
    "    println(\"$character está atacando com $damage de dano!\")\n",
    "    delay(1000) // Simula o tempo de execução do ataque\n",
    "}\n",
    "\n",
    "// Função para simular uma defesa\n",
    "suspend fun defend(character: String, defense: Int) {\n",
    "    println(\"$character está se defendendo com $defense de defesa!\")\n",
    "    delay(1500) // Simula o tempo de execução da defesa\n",
    "}\n",
    "\n",
    "fun main() = runBlocking {\n",
    "    println(\"Bem-vindo à batalha!\")\n",
    "\n",
    "    // Lança corrotinas para ações do Personagem 1\n",
    "    val job1 = launch {\n",
    "        attack(\"Personagem 1\", 20)\n",
    "        defend(\"Personagem 1\", 10)\n",
    "        attack(\"Personagem 1\", 15)\n",
    "    }\n",
    "\n",
    "    // Lança corrotinas para ações do Personagem 2\n",
    "    val job2 = launch {\n",
    "        attack(\"Personagem 2\", 25)\n",
    "        defend(\"Personagem 2\", 5)\n",
    "        attack(\"Personagem 2\", 10)\n",
    "    }\n",
    "\n",
    "    // Espera o término das ações de ambos os personagens\n",
    "    job1.join()\n",
    "    job2.join()\n",
    "\n",
    "    println(\"A batalha terminou!\")\n",
    "}\n",
    "\n",
    "main()"
   ],
   "metadata": {
    "collapsed": false,
    "ExecuteTime": {
     "end_time": "2024-03-15T18:43:26.545514500Z",
     "start_time": "2024-03-15T18:43:22.729091600Z"
    }
   },
   "execution_count": 19
  },
  {
   "cell_type": "markdown",
   "source": [
    "#### RunBlocking\n",
    "\n",
    "A função runBlocking é uma construtora de corrotinas que cria uma corrotina que bloqueia a thread atual até que todas as corrotinas lançadas dentro dela sejam concluídas. Isso é útil para escrever código de teste ou para criar uma área onde corrotinas podem ser lançadas sem necessidade de tratamento especial."
   ],
   "metadata": {
    "collapsed": false
   }
  },
  {
   "cell_type": "code",
   "outputs": [
    {
     "name": "stdout",
     "output_type": "stream",
     "text": [
      "Início do programa\r\n",
      "Dados do usuário obtidos\r\n",
      "Dados do produto obtidos\r\n",
      "Fim do programa\r\n"
     ]
    }
   ],
   "source": [
    "import kotlinx.coroutines.*\n",
    "\n",
    "suspend fun fetchUserData(): String {\n",
    "    delay(2000) // Simula uma operação de rede demorada\n",
    "    return \"Dados do usuário obtidos\"\n",
    "}\n",
    "\n",
    "suspend fun fetchProductData(): String {\n",
    "    delay(1500) // Simula outra operação de rede demorada\n",
    "    return \"Dados do produto obtidos\"\n",
    "}\n",
    "\n",
    "fun main() {\n",
    "    println(\"Início do programa\")\n",
    "\n",
    "    runBlocking {\n",
    "        // Dentro do escopo de runBlocking, podemos chamar funções suspensas diretamente\n",
    "        val userData = fetchUserData()\n",
    "        println(userData)\n",
    "\n",
    "        val productData = fetchProductData()\n",
    "        println(productData)\n",
    "    }\n",
    "\n",
    "    println(\"Fim do programa\")\n",
    "}\n",
    "\n",
    "main()"
   ],
   "metadata": {
    "collapsed": false,
    "ExecuteTime": {
     "end_time": "2024-03-15T18:43:30.607738100Z",
     "start_time": "2024-03-15T18:43:26.554593400Z"
    }
   },
   "execution_count": 20
  },
  {
   "cell_type": "markdown",
   "source": [
    "## 3. Suspensão de Funções\n",
    "\n",
    "As corrotinas em Kotlin são uma maneira eficaz de lidar com operações assíncronas de maneira sequencial, proporcionando um código mais conciso e compreensível. Uma característica crucial das corrotinas é a capacidade de suspender funções, permitindo que o controle seja devolvido ao chamador sem bloquear a thread.\n",
    "\n",
    "### Funções de suspensões\n",
    "\n",
    "Funções de suspensão são aquelas que podem ser pausadas e retomadas posteriormente. Isso significa que, ao encontrar uma operação bloqueante, uma função de suspensão pode liberar a thread de execução sem bloqueá-la, possibilitando que outras tarefas sejam realizadas enquanto aguarda a conclusão da operação.\n",
    "\n",
    "Exemplo de função de suspensão: (esse bloco de código não executa nada)"
   ],
   "metadata": {
    "collapsed": false
   }
  },
  {
   "cell_type": "code",
   "outputs": [],
   "source": [
    "suspend fun minhaFuncaoSuspendida() {\n",
    "    println(\"Início da função\")\n",
    "    delay(2000) // Simulando uma operação assíncrona\n",
    "    println(\"Fim da função\")\n",
    "}"
   ],
   "metadata": {
    "collapsed": false,
    "ExecuteTime": {
     "end_time": "2024-03-15T18:43:30.827192Z",
     "start_time": "2024-03-15T18:43:30.613741900Z"
    }
   },
   "execution_count": 21
  },
  {
   "cell_type": "markdown",
   "source": [
    "### Chamadas a Funções de Suspensão\n",
    "\n",
    "Ao chamar funções de suspensão, é necessário estar em um contexto de corrotina. Isso geralmente é feito dentro de um bloco **launch** ou **async** em um escopo de corrotina (**runBlocking**)."
   ],
   "metadata": {
    "collapsed": false
   }
  },
  {
   "cell_type": "code",
   "outputs": [
    {
     "name": "stdout",
     "output_type": "stream",
     "text": [
      "Início da corrotina principal\r\n",
      "Fim da corrotina principal\r\n",
      "Início da corrotina secundária\r\n",
      "Início da função\r\n",
      "Fim da função\r\n",
      "Fim da corrotina secundária\r\n"
     ]
    }
   ],
   "source": [
    "import kotlinx.coroutines.*\n",
    "\n",
    "suspend fun minhaFuncaoSuspendida() {\n",
    "    println(\"Início da função\")\n",
    "    delay(2000) // Simulando uma operação assíncrona\n",
    "    println(\"Fim da função\")\n",
    "}\n",
    "\n",
    "fun main() {\n",
    "    runBlocking {\n",
    "        println(\"Início da corrotina principal\")\n",
    "\n",
    "        launch {\n",
    "            println(\"Início da corrotina secundária\")\n",
    "            minhaFuncaoSuspendida()\n",
    "            println(\"Fim da corrotina secundária\")\n",
    "        }\n",
    "\n",
    "        println(\"Fim da corrotina principal\")\n",
    "    }\n",
    "}\n",
    "\n",
    "main()"
   ],
   "metadata": {
    "collapsed": false,
    "ExecuteTime": {
     "end_time": "2024-03-15T23:03:02.928596100Z",
     "start_time": "2024-03-15T23:02:59.655202100Z"
    }
   },
   "execution_count": 1
  },
  {
   "cell_type": "markdown",
   "source": [
    "No exemplo acima, a corrotina principal inicia uma corrotina secundária usando launch, que chama a função de suspensão minhaFuncaoSuspendida().\n",
    "\n",
    "Perceba que o bloco dentro de runBlocking é a corrotina principal, e o bloco dentro de launch é uma corrotina secundária. A função minhaFuncaoSuspendida é chamada dentro da corrotina secundária. Isso cria uma hierarquia onde a corrotina principal contém ou inicia outras corrotinas secundárias"
   ],
   "metadata": {
    "collapsed": false
   }
  },
  {
   "cell_type": "markdown",
   "source": [
    "### Sequencial por padrão\n",
    "\n",
    "Suponha que temos duas funções de suspensão definidas em outro lugar que fazem algo útil, como algum tipo de chamada de serviço remoto ou computação. Nós apenas fingimos que eles são úteis, mas na verdade cada um atrasa apenas um segundo para efeitos deste exemplo:"
   ],
   "metadata": {
    "collapsed": false
   }
  },
  {
   "cell_type": "code",
   "outputs": [],
   "source": [
    "suspend fun doSomethingUsefulOne(): Int {\n",
    "    delay(1000L) // faça de conta que estamos fazendo algo útil aqui\n",
    "    return 13\n",
    "}\n",
    "\n",
    "suspend fun doSomethingUsefulTwo(): Int {\n",
    "    delay(1000L) // faça de conta que estamos fazendo algo útil aqui, também\n",
    "    return 29\n",
    "}"
   ],
   "metadata": {
    "collapsed": false,
    "ExecuteTime": {
     "end_time": "2024-03-15T18:43:31.251573500Z",
     "start_time": "2024-03-15T18:43:31.131135900Z"
    }
   },
   "execution_count": 23
  },
  {
   "cell_type": "markdown",
   "source": [
    "O que fazemos se precisarmos que eles sejam invocados sequencialmente — primeiro doSomethingUsefulOne e depois doSomethingUsefulTwo, e calcular a soma de seus resultados? Na prática, fazemos isso se usarmos o resultado da primeira função para tomar uma decisão sobre se precisamos invocar a segunda ou decidir como invocá-la.\n",
    "\n",
    "Usamos uma invocação normal sequencial, porque o código na corrotina, assim como no código regular, é sequencial por padrão. O exemplo a seguir demonstra isso medindo o tempo total necessário para executar ambas as funções suspensas:"
   ],
   "metadata": {
    "collapsed": false
   }
  },
  {
   "cell_type": "code",
   "outputs": [
    {
     "name": "stdout",
     "output_type": "stream",
     "text": [
      "A resposta é 42\r\n",
      "Completado em 2020 ms\r\n"
     ]
    }
   ],
   "source": [
    "import kotlinx.coroutines.*\n",
    "import kotlin.system.*\n",
    "\n",
    "fun main() = runBlocking<Unit> {\n",
    "    val time = measureTimeMillis {\n",
    "        val one = doSomethingUsefulOne()\n",
    "        val two = doSomethingUsefulTwo()\n",
    "        println(\"A resposta é ${one + two}\")\n",
    "    }\n",
    "    println(\"Completado em $time ms\")    \n",
    "}\n",
    "\n",
    "suspend fun doSomethingUsefulOne(): Int {\n",
    "    delay(1000L) // faça de conta que estamos fazendo algo útil aqui\n",
    "    return 13\n",
    "}\n",
    "\n",
    "suspend fun doSomethingUsefulTwo(): Int {\n",
    "    delay(1000L) // faça de conta que estamos fazendo algo útil aqui, também\n",
    "    return 29\n",
    "}\n",
    "\n",
    "main()"
   ],
   "metadata": {
    "collapsed": false,
    "ExecuteTime": {
     "end_time": "2024-03-15T18:43:33.487243100Z",
     "start_time": "2024-03-15T18:43:31.255046800Z"
    }
   },
   "execution_count": 24
  },
  {
   "cell_type": "markdown",
   "source": [
    "Explicação do código:\n",
    "\n",
    "Na função principal main(), o bloco runBlocking é utilizado para criar uma corrotina principal. Esta corrotina principal será executada na thread principal e aguardará a conclusão de todas as corrotinas filhas lançadas dentro dela.\n",
    "\n",
    "Dentro do bloco runBlocking, a função de utilidade measureTimeMillis é empregada para medir o tempo total de execução do código dentro do bloco. O resultado é armazenado na variável time.\n",
    "\n",
    "Duas corrotinas são lançadas sequencialmente para simular operações assíncronas demoradas. A função doSomethingUsefulOne() representa a primeira operação, que leva 1000 milissegundos (1 segundo) e retorna o valor 13. A função doSomethingUsefulTwo() representa a segunda operação, também levando 1000 milissegundos e retornando o valor 29.\n",
    "\n",
    "Após a conclusão das duas corrotinas, a soma dos resultados (one + two) é impressa no console.\n",
    "\n",
    "Finalmente, o tempo total decorrido para a execução das operações é impresso no console, utilizando a função measureTimeMillis.\n",
    "\n"
   ],
   "metadata": {
    "collapsed": false
   }
  },
  {
   "cell_type": "markdown",
   "source": [
    "### Concorrente usando async\n",
    "\n",
    "\n",
    "E se não houver dependências entre as invocações de doSomethingUsefulOne e doSomethingUsefulTwo e queremos obter a resposta mais rapidamente, fazendo ambas de forma concorrente? É aqui que o async entra em cena.\n",
    "\n",
    "Conceitualmente, async é semelhante ao launch. Ele inicia uma corrotina separada, que é uma thread leve que funciona simultaneamente com todas as outras corrotinas. A diferença é que launch retorna um Job e não carrega nenhum valor resultante, enquanto async retorna um Deferred — um futuro leve e não bloqueante que representa a promessa de fornecer um resultado posteriormente. Você pode usar .await() em um valor diferido para obter seu resultado eventual, mas Deferred também é um Job, então você pode cancelá-lo se necessário."
   ],
   "metadata": {
    "collapsed": false
   }
  },
  {
   "cell_type": "code",
   "outputs": [
    {
     "name": "stdout",
     "output_type": "stream",
     "text": [
      "A resposta é 42\r\n",
      "Completado em 1011 ms\r\n"
     ]
    }
   ],
   "source": [
    "import kotlinx.coroutines.*\n",
    "import kotlin.system.*\n",
    "\n",
    "fun main() = runBlocking<Unit> {\n",
    "    val time = measureTimeMillis {\n",
    "        val one = async { doSomethingUsefulOne() }\n",
    "        val two = async { doSomethingUsefulTwo() }\n",
    "        println(\"A resposta é ${one.await() + two.await()}\")\n",
    "    }\n",
    "    println(\"Completado em $time ms\")    \n",
    "}\n",
    "\n",
    "suspend fun doSomethingUsefulOne(): Int {\n",
    "    delay(1000L)\n",
    "    return 13\n",
    "}\n",
    "\n",
    "suspend fun doSomethingUsefulTwo(): Int {\n",
    "    delay(1000L)\n",
    "    return 29\n",
    "}\n",
    "\n",
    "main()"
   ],
   "metadata": {
    "collapsed": false,
    "ExecuteTime": {
     "end_time": "2024-03-15T18:43:34.763601300Z",
     "start_time": "2024-03-15T18:43:33.495352900Z"
    }
   },
   "execution_count": 25
  },
  {
   "cell_type": "markdown",
   "source": [
    "\n",
    "Isso é duas vezes mais rápido, pois as duas corrotinas são executadas simultaneamente. Observe que a concorrência com corrotinas é sempre explícita, indicada pelo uso do construtor async, que inicia corrotinas independentes capazes de serem executadas em paralelo."
   ],
   "metadata": {
    "collapsed": false
   }
  },
  {
   "cell_type": "markdown",
   "source": [
    "### Lazily started async\n",
    "\n",
    "O trecho a seguir menciona que, opcionalmente, a corrotina async pode ser tornada preguiçosa (lazy) ao definir o parâmetro de início (start parameter) como CoroutineStart.LAZY. Nesse modo, a corrotina apenas é iniciada quando seu resultado é necessário, seja por meio do await ou se a função de início do Job for invocada. Execute o exemplo a seguir:"
   ],
   "metadata": {
    "collapsed": false
   }
  },
  {
   "cell_type": "code",
   "outputs": [
    {
     "name": "stdout",
     "output_type": "stream",
     "text": [
      "A resposta é 42\r\n",
      "Completado em 1011 ms\r\n"
     ]
    }
   ],
   "source": [
    "import kotlinx.coroutines.*\n",
    "import kotlin.system.*\n",
    "\n",
    "fun main() = runBlocking<Unit> {\n",
    "    val time = measureTimeMillis {\n",
    "        val one = async(start = CoroutineStart.LAZY) { doSomethingUsefulOne() }\n",
    "        val two = async(start = CoroutineStart.LAZY) { doSomethingUsefulTwo() }\n",
    "        one.start() // inicia a primeira corrotina\n",
    "        two.start() // inicia a segunda corrotina\n",
    "        println(\"A resposta é ${one.await() + two.await()}\")\n",
    "    }\n",
    "    println(\"Completado em $time ms\")    \n",
    "}\n",
    "\n",
    "suspend fun doSomethingUsefulOne(): Int {\n",
    "    delay(1000L)\n",
    "    return 13\n",
    "}\n",
    "\n",
    "suspend fun doSomethingUsefulTwo(): Int {\n",
    "    delay(1000L)\n",
    "    return 29\n",
    "}\n",
    "\n",
    "main()"
   ],
   "metadata": {
    "collapsed": false,
    "ExecuteTime": {
     "end_time": "2024-03-15T18:43:36.147924800Z",
     "start_time": "2024-03-15T18:43:34.769428600Z"
    }
   },
   "execution_count": 26
  },
  {
   "cell_type": "markdown",
   "source": [
    "\n",
    "Portanto, aqui as duas corrotinas são definidas, mas não são executadas como no exemplo anterior. O controle é concedido ao programador sobre quando exatamente iniciar a execução, chamando start. Primeiro, iniciamos a corrotina um, depois iniciamos a corrotina dois e, em seguida, aguardamos a conclusão das corrotinas individuais.\n",
    "\n",
    "Observe que se simplesmente chamarmos await no println sem primeiro chamar start nas corrotinas individuais, isso levará a um comportamento sequencial, pois await inicia a execução da corrotina e espera por sua conclusão, o que não é o caso pretendido para a preguiça (lazy). O caso de uso para async(start = CoroutineStart.LAZY) é uma substituição para a função padrão lazy em casos em que o cálculo do valor envolve funções de suspensão."
   ],
   "metadata": {
    "collapsed": false
   }
  },
  {
   "cell_type": "markdown",
   "source": [
    "### Funções no Estilo async\n",
    "\n",
    "⚠ Esse estilo de programação com funções assíncronas é fornecido aqui apenas para ilustração, pois é um estilo popular em outras linguagens de programação. O uso desse estilo com corrotinas em Kotlin é fortemente desencorajado pelos motivos explicados abaixo.\n",
    "\n",
    "Podemos definir funções no estilo assíncrono que invocam doSomethingUsefulOne e doSomethingUsefulTwo de forma assíncrona usando o construtor de corrotina async com uma referência a GlobalScope para sair da concorrência estruturada. Nomeamos tais funções com o sufixo \"...Async\" para destacar o fato de que elas apenas iniciam a computação assíncrona e é necessário usar o valor deferido resultante para obter o resultado.\n",
    "\n",
    "⚠ GlobalScope é uma API delicada que pode ter efeitos adversos de maneiras não triviais, um dos quais será explicado abaixo, portanto, você deve optar explicitamente por usar GlobalScope com @OptIn(DelicateCoroutinesApi::class)."
   ],
   "metadata": {
    "collapsed": false
   }
  },
  {
   "cell_type": "code",
   "outputs": [],
   "source": [
    "// O tipo de resultado de somethingUsefulOneAsync é Deferred<Int>\n",
    "@OptIn(DelicateCoroutinesApi::class)\n",
    "fun somethingUsefulOneAsync() = GlobalScope.async {\n",
    "    doSomethingUsefulOne()\n",
    "}\n",
    "\n",
    "// O tipo de resultado de somethingUsefulTwoAsync é Deferred<Int>\n",
    "@OptIn(DelicateCoroutinesApi::class)\n",
    "fun somethingUsefulTwoAsync() = GlobalScope.async {\n",
    "    doSomethingUsefulTwo()\n",
    "}"
   ],
   "metadata": {
    "collapsed": false,
    "ExecuteTime": {
     "end_time": "2024-03-15T18:43:36.388050100Z",
     "start_time": "2024-03-15T18:43:36.153552300Z"
    }
   },
   "execution_count": 27
  },
  {
   "cell_type": "markdown",
   "source": [
    "Observe que essas funções xxxAsync não são funções de suspensão. Elas podem ser usadas de qualquer lugar. No entanto, o uso delas sempre implica na execução assíncrona (aqui significando concorrente) de sua ação com o código que as invoca.\n",
    "\n",
    "O exemplo a seguir mostra o uso delas fora da corrotina:"
   ],
   "metadata": {
    "collapsed": false
   }
  },
  {
   "cell_type": "code",
   "outputs": [
    {
     "name": "stdout",
     "output_type": "stream",
     "text": [
      "A resposta é 42\r\n",
      "Completado em 1013 ms\r\n"
     ]
    }
   ],
   "source": [
    "import kotlinx.coroutines.*\n",
    "import kotlin.system.*\n",
    "\n",
    "// Observe que não temos runBlocking à direita de main neste exemplo.\n",
    "fun main() {\n",
    "    val time = measureTimeMillis {\n",
    "        // Podemos iniciar ações assíncronas fora de uma corrotina.\n",
    "        val one = somethingUsefulOneAsync()\n",
    "        val two = somethingUsefulTwoAsync()\n",
    "        // Mas aguardar um resultado deve envolver, suspender ou bloquear.\n",
    "        // aqui usamos runBlocking { ... } para bloquear a thread principal enquanto aguardamos o resultado\n",
    "        runBlocking {\n",
    "            println(\"A resposta é ${one.await() + two.await()}\")\n",
    "        }\n",
    "    }\n",
    "    println(\"Completado em $time ms\")\n",
    "}\n",
    "\n",
    "@OptIn(DelicateCoroutinesApi::class)\n",
    "fun somethingUsefulOneAsync() = GlobalScope.async {\n",
    "    doSomethingUsefulOne()\n",
    "}\n",
    "\n",
    "@OptIn(DelicateCoroutinesApi::class)\n",
    "fun somethingUsefulTwoAsync() = GlobalScope.async {\n",
    "    doSomethingUsefulTwo()\n",
    "}\n",
    "\n",
    "suspend fun doSomethingUsefulOne(): Int {\n",
    "    delay(1000L)\n",
    "    return 13\n",
    "}\n",
    "\n",
    "suspend fun doSomethingUsefulTwo(): Int {\n",
    "    delay(1000L)\n",
    "    return 29\n",
    "}\n",
    "\n",
    "main()"
   ],
   "metadata": {
    "collapsed": false,
    "ExecuteTime": {
     "end_time": "2024-03-15T18:43:37.744033400Z",
     "start_time": "2024-03-15T18:43:36.393322400Z"
    }
   },
   "execution_count": 28
  },
  {
   "cell_type": "markdown",
   "source": [
    "Considere o que acontece se entre a linha val one = somethingUsefulOneAsync() e a expressão one.await() houver algum erro lógico no código, e o programa lançar uma exceção, e a operação que estava sendo executada pelo programa for interrompida. Normalmente, um manipulador global de erros poderia capturar essa exceção, registrar e relatar o erro para os desenvolvedores, mas o programa poderia continuar fazendo outras operações. No entanto, aqui temos somethingUsefulOneAsync ainda sendo executado em segundo plano, mesmo que a operação que o iniciou tenha sido interrompida. Esse problema não ocorre com concorrência estruturada, como mostrado na seção abaixo."
   ],
   "metadata": {
    "collapsed": false
   }
  },
  {
   "cell_type": "markdown",
   "source": [
    "### Concorrência Estruturada com Async\n",
    "\n",
    "Vamos pegar o exemplo \"Concorrente usando async\" e extrair uma função que executa em paralelo doSomethingUsefulOne e doSomethingUsefulTwo, retornando a soma de seus resultados. Como o construtor de corotinas async é definido como uma extensão em CoroutineScope, precisamos tê-lo no escopo, e é isso que a função coroutineScope fornece:"
   ],
   "metadata": {
    "collapsed": false
   }
  },
  {
   "cell_type": "code",
   "outputs": [],
   "source": [
    "suspend fun concurrentSum(): Int = coroutineScope {\n",
    "    val one = async { doSomethingUsefulOne() }\n",
    "    val two = async { doSomethingUsefulTwo() }\n",
    "    one.await() + two.await()\n",
    "}"
   ],
   "metadata": {
    "collapsed": false,
    "ExecuteTime": {
     "end_time": "2024-03-15T18:43:37.926148300Z",
     "start_time": "2024-03-15T18:43:37.749417700Z"
    }
   },
   "execution_count": 29
  },
  {
   "cell_type": "markdown",
   "source": [
    "Dessa forma, se algo der errado dentro do código da função concurrentSum e ela lançar uma exceção, todas as corrotinas que foram iniciadas em seu escopo serão canceladas."
   ],
   "metadata": {
    "collapsed": false
   }
  },
  {
   "cell_type": "code",
   "outputs": [
    {
     "name": "stdout",
     "output_type": "stream",
     "text": [
      "A resposta é 42\r\n",
      "Completado em 1020 ms\r\n"
     ]
    }
   ],
   "source": [
    "import kotlinx.coroutines.*\n",
    "import kotlin.system.*\n",
    "\n",
    "fun main() = runBlocking<Unit> {\n",
    "    val time = measureTimeMillis {\n",
    "        println(\"A resposta é ${concurrentSum()}\")\n",
    "    }\n",
    "    println(\"Completado em $time ms\")    \n",
    "}\n",
    "\n",
    "suspend fun concurrentSum(): Int = coroutineScope {\n",
    "    val one = async { doSomethingUsefulOne() }\n",
    "    val two = async { doSomethingUsefulTwo() }\n",
    "    one.await() + two.await()\n",
    "}\n",
    "\n",
    "suspend fun doSomethingUsefulOne(): Int {\n",
    "    delay(1000L)\n",
    "    return 13\n",
    "}\n",
    "\n",
    "suspend fun doSomethingUsefulTwo(): Int {\n",
    "    delay(1000L)\n",
    "    return 29\n",
    "}\n",
    "\n",
    "main()"
   ],
   "metadata": {
    "collapsed": false,
    "ExecuteTime": {
     "end_time": "2024-03-15T18:43:39.199273Z",
     "start_time": "2024-03-15T18:43:37.929995Z"
    }
   },
   "execution_count": 30
  },
  {
   "cell_type": "markdown",
   "source": [
    "Ainda temos a execução simultânea de ambas as operações, como evidenciado pela saída da função principal acima\n",
    "\n",
    "O cancelamento é sempre propagado através da hierarquia de corrotinas:"
   ],
   "metadata": {
    "collapsed": false
   }
  },
  {
   "cell_type": "code",
   "outputs": [
    {
     "name": "stdout",
     "output_type": "stream",
     "text": [
      "Second child throws an exception\r\n",
      "First child was cancelled\r\n",
      "Computation failed with ArithmeticException\r\n"
     ]
    }
   ],
   "source": [
    "import kotlinx.coroutines.*\n",
    "\n",
    "fun main() = runBlocking<Unit> {\n",
    "    try {\n",
    "        failedConcurrentSum()\n",
    "    } catch(e: ArithmeticException) {\n",
    "        println(\"Computation failed with ArithmeticException\")\n",
    "    }\n",
    "}\n",
    "\n",
    "suspend fun failedConcurrentSum(): Int = coroutineScope {\n",
    "    val one = async<Int> { \n",
    "        try {\n",
    "            delay(Long.MAX_VALUE) // Emulates very long computation\n",
    "            42\n",
    "        } finally {\n",
    "            println(\"First child was cancelled\")\n",
    "        }\n",
    "    }\n",
    "    val two = async<Int> { \n",
    "        println(\"Second child throws an exception\")\n",
    "        throw ArithmeticException()\n",
    "    }\n",
    "    one.await() + two.await()\n",
    "}\n",
    "\n",
    "main()"
   ],
   "metadata": {
    "collapsed": false,
    "ExecuteTime": {
     "end_time": "2024-03-15T18:43:39.685387100Z",
     "start_time": "2024-03-15T18:43:39.206335100Z"
    }
   },
   "execution_count": 31
  },
  {
   "cell_type": "markdown",
   "source": [
    "Observe como tanto o primeiro async quanto o pai aguardando são cancelados no caso de falha de um dos filhos (no caso, two):"
   ],
   "metadata": {
    "collapsed": false
   }
  },
  {
   "cell_type": "markdown",
   "source": [
    "## 4. Escopo de Corrotina (Scopes)\n",
    "\n",
    "Quando estamos lidando com corrotinas em Kotlin, é importante entender o conceito por trás dos escopos. Os escopos em corrotinas definem basicamente o ciclo de vida das mesmas, com isso entende-se que eles são responsáveis por ditar quando elas serão iniciadas, executadas e por fim, finalizadas. Sendo também responsáveis pelo aninhamento das corrotinas e como lidar com seus possíveis erros.\n",
    "\n",
    "Existem diversos tipos de escopo em corrotinas, cada um com seu propósito e uso específico, estes que iremos debater em sequência."
   ],
   "metadata": {
    "collapsed": false
   }
  },
  {
   "cell_type": "markdown",
   "source": [
    "### GlobalScope\n",
    "\n",
    "Iniciando com as corrotinas de escopo a nível global, estas existem durante toda a vida útil da aplicação, por isso seu uso é amplamente desencorajado, pois estas podem seguir em execução mesmo após o término da execução do escopo principal, causando vazamento de memória.\n",
    "\n",
    "Abaixo temos um exemplo de código que faz uso de corrotinas de escopo global"
   ],
   "metadata": {
    "collapsed": false
   }
  },
  {
   "cell_type": "code",
   "outputs": [
    {
     "name": "stdout",
     "output_type": "stream",
     "text": [
      "teste\r\n",
      "Corrotina no GlobalScope\r\n"
     ]
    }
   ],
   "source": [
    "// Importação das classes e funções necessárias para uso da biblioteca de corrotinas\n",
    "import kotlinx.coroutines.*\n",
    "\n",
    "// Ponto de partida do programa\n",
    "fun main() {\n",
    "    // Inicialização de uma corrotina de escopo global\n",
    "    GlobalScope.launch {\n",
    "        println(\"Corrotina no GlobalScope\")\n",
    "    }\n",
    "    // Comportamento forçado para que a função main() se mantenha bloqueada por 1 segundo, afim de assegurar que a corrotina seja incializada\n",
    "    println(\"teste\")\n",
    "    //Thread.sleep(1000)\n",
    "}\n",
    "\n",
    "main()"
   ],
   "metadata": {
    "collapsed": false,
    "ExecuteTime": {
     "end_time": "2024-03-15T18:43:39.857332900Z",
     "start_time": "2024-03-15T18:43:39.691497800Z"
    }
   },
   "execution_count": 32
  },
  {
   "cell_type": "markdown",
   "source": [
    "### CorroutineScope\n",
    "\n",
    "Este por sua vez, segue associado a um determinado componente, é o mais indicado e visto como uma boa prática em criar um escopo para cada componente ou tarefa, com isso, as corrotinas criadas neste escopo são canceladas quando o escopo é encerrado."
   ],
   "metadata": {
    "collapsed": false
   }
  },
  {
   "cell_type": "code",
   "outputs": [
    {
     "name": "stdout",
     "output_type": "stream",
     "text": [
      "Corrotina no CoroutineScope\r\n"
     ]
    }
   ],
   "source": [
    "import kotlinx.coroutines.*\n",
    "// runBlocking, é um construtor de corrotina, que cria um escopo da mesma, em que bloqueia a thread até que todas as corrotinas lançadas dentro dela sejam concluídas.\n",
    "\n",
    "fun main() = runBlocking {\n",
    "    // Usando o contexto de execução Dispatchers.Default. Isso significa que todas as corrotinas lançadas dentro do escopo myScope usarão o pool de threads padrão para executar suas operações em paralelo com o resto do componente\n",
    "    val myScope = CoroutineScope(Dispatchers.Default)\n",
    "    // Isso lança uma nova corrotina no escopo myScope. Dentro da corrotina, há um atraso de 1000 milissegundos usando a função delay() e, em seguida, imprime a mensagem \"Corrotina no CoroutineScope\".\n",
    "    myScope.launch {\n",
    "        delay(1000)\n",
    "        println(\"Corrotina no CoroutineScope\")\n",
    "    }\n",
    "    // Isso faz com que a thread atual (a thread principal) aguarde por 2000 milissegundos (2 segundos). Isso é feito dentro do escopo runBlocking e é usado apenas para aguardar a saída antes de finalizar o programa.\n",
    "    delay(2000)\n",
    "    // Cancela a corrotina\n",
    "    myScope.cancel()\n",
    "}\n",
    "\n",
    "main()"
   ],
   "metadata": {
    "collapsed": false,
    "ExecuteTime": {
     "end_time": "2024-03-15T18:43:42.118716300Z",
     "start_time": "2024-03-15T18:43:39.861848900Z"
    }
   },
   "execution_count": 33
  },
  {
   "cell_type": "markdown",
   "source": [
    "### SupervisorScope\n",
    "\n",
    "Diferentemente das corrotinas regulares, um escopo de corrotina supervisor trata as falhas de maneira especial. Se uma corrotina lançada dentro desse escopo falhar, a falha não se propaga para outras corrotinas no mesmo escopo e não cancela o escopo inteiro. Isso é útil quando você deseja que uma falha em uma corrotina não afete outras corrotinas no mesmo escopo."
   ],
   "metadata": {
    "collapsed": false
   }
  },
  {
   "cell_type": "code",
   "outputs": [
    {
     "name": "stdout",
     "output_type": "stream",
     "text": [
      "Main thread continua após a falha na corrotina\r\n"
     ]
    },
    {
     "data": {
      "text/plain": "StandaloneCoroutine{Completed}@6497bf10"
     },
     "execution_count": 2,
     "metadata": {},
     "output_type": "execute_result"
    }
   ],
   "source": [
    "import kotlin.coroutines.*\n",
    "//  é definida como uma suspensão, o que significa que ela pode pausar e ser retomada posteriormente. Isso permite o uso de corrotinas dentro da função main().\n",
    "suspend fun minhaFuncaoMain() {\n",
    "    // supervisorScope é um construtor de corrotina que cria um escopo de corrotina supervisor. Um escopo de corrotina supervisor trata as falhas de maneira diferente das corrotinas regulares. Se uma corrotina lançada dentro de um escopo supervisor falhar, a falha não se propaga para as outras corrotinas no mesmo escopo e não cancela o escopo.\n",
    "    supervisorScope {\n",
    "        // Dentro do escopo supervisorScope, uma corrotina é lançada usando launch. Esta corrotina simula uma operação assíncrona com um atraso de 1000 milissegundos antes de imprimir \"Corrotina finalizada\".\n",
    "        val job = launch {\n",
    "            delay(1000)\n",
    "            println(\"Corrotina finalizada\")\n",
    "        }\n",
    "        // A linha job.cancel() força uma falha na corrotina lançada anteriormente. Isso cancela a corrotina antes que ela possa terminar normalmente.\n",
    "        job.cancel()\n",
    "        //  Mesmo após a falha na corrotina, a execução do programa deveria continuar e esta linha imprimiria uma mensagem indicando que a thread principal (main()) continua sua execução após a falha na corrotina\n",
    "        println(\"Main thread continua após a falha na corrotina\")\n",
    "    }\n",
    "}\n",
    "\n",
    "GlobalScope.launch { minhaFuncaoMain() }"
   ],
   "metadata": {
    "collapsed": false,
    "ExecuteTime": {
     "end_time": "2024-03-15T23:07:32.890994Z",
     "start_time": "2024-03-15T23:07:32.191762400Z"
    }
   },
   "execution_count": 2
  },
  {
   "cell_type": "markdown",
   "source": [
    "### ViewModeScope\n",
    "\n",
    "O ViewModelScope é usado em aplicativos Android com arquitetura ViewModel, logo, entende-se que corrotinas criadas neste escopo são canceladas quando o ViewModel é destruído, automatizando o cancelamento de corrotinas e assim evitando memory leak e interrompendo corretamente operações assíncronas não mais necessárias.\n",
    "\n",
    "O código abaixo não funciona, pois foi feita no android Studio."
   ],
   "metadata": {
    "collapsed": false
   }
  },
  {
   "cell_type": "code",
   "outputs": [
    {
     "name": "stderr",
     "output_type": "stream",
     "text": [
      "Line_35.jupyter.kts (1:8 - 16) Unresolved reference: androidx\n",
      "Line_35.jupyter.kts (2:8 - 16) Unresolved reference: androidx\n",
      "Line_35.jupyter.kts (6:21 - 30) Unresolved reference: ViewModel\n",
      "Line_35.jupyter.kts (10:9 - 23) Unresolved reference: viewModelScope\n",
      "Line_35.jupyter.kts (12:13 - 18) Suspend function 'delay' should be called only from a coroutine or another suspend function"
     ]
    }
   ],
   "source": [
    "import androidx.lifecycle.ViewModel\n",
    "import androidx.lifecycle.viewModelScope\n",
    "import kotlinx.coroutines.*\n",
    "\n",
    "//  Define uma classe Kotlin chamada MyViewModel que estende a classe ViewModel\n",
    "class MyViewModel : ViewModel() {\n",
    "    // Este é um método público da classe MyViewModel que pode ser chamado para buscar dados, exemplo uma chamada API. Dentro do método, é lançada uma corrotina usando viewModelScope.launch. Isso garante que a corrotina seja cancelada automaticamente quando concluída.\n",
    "    fun fetchData() {\n",
    "        // Inicializa a corrotina, onde há uma simulação de operação assíncrona com delay(1000) para esperar 1 segundo antes de imprimir \"Dados buscados com sucesso!\".\n",
    "        viewModelScope.launch {\n",
    "            // Simula uma operação assíncrona\n",
    "            delay(1000)\n",
    "            println(\"Dados buscados com sucesso!\")\n",
    "        }\n",
    "    }\n",
    "}"
   ],
   "metadata": {
    "collapsed": false,
    "ExecuteTime": {
     "end_time": "2024-03-15T18:43:44.601495800Z",
     "start_time": "2024-03-15T18:43:44.314529800Z"
    }
   },
   "execution_count": 35
  },
  {
   "cell_type": "markdown",
   "source": [
    "## 5. Jobs\n",
    "\n",
    "Em corrotinas do Kotlin, um \"job\" é um conceito que representa uma única unidade de trabalho assíncrono. Ele é basicamente uma tarefa que está sendo executada em uma corrotina. Os jobs são usados para acompanhar o progresso, cancelar ou esperar pela conclusão de uma corrotina.\n",
    "\n",
    "Quando você lança uma corrotina usando launch, async ou outras construções similares\n",
    "uma referência para o job correspondente é retornada. Você pode usar essa referência para interagir com a corrotina em execução.\n",
    "\n",
    "Principais operações comuns que você pode realizar em um job: Esperar pela conclusão , Cancelar ,Verificar status,Tratar exceções: \n",
    "\n",
    "Esperar pela conclusão (join()): O método join() é usado para esperar até que a corrotina associada ao job seja concluída. Isso é útil quando você precisa garantir que uma corrotina termine antes de prosseguir com o restante do código."
   ],
   "metadata": {
    "collapsed": false
   }
  },
  {
   "cell_type": "code",
   "outputs": [
    {
     "name": "stdout",
     "output_type": "stream",
     "text": [
      "Main thread continua a executar enquanto a tarefa assíncrona está em andamento\r\n",
      "Todas as tarefas assíncronas concluídas\r\n",
      "Iniciando tarefa assíncrona\r\n",
      "Tarefa assíncrona concluída\r\n"
     ]
    }
   ],
   "source": [
    "import kotlinx.coroutines.*\n",
    "\n",
    "fun main() = runBlocking {\n",
    "    // Iniciando uma corrotina\n",
    "    val job = launch {\n",
    "        println(\"Iniciando tarefa assíncrona\")\n",
    "        delay(1000) // Simula uma operação de longa duração (1 segundo)\n",
    "        println(\"Tarefa assíncrona concluída\")\n",
    "    }\n",
    "\n",
    "    println(\"Main thread continua a executar enquanto a tarefa assíncrona está em andamento\")\n",
    "\n",
    "    // Esperando a conclusão da corrotina\n",
    "    //job.join() // Espera a corrotina concluir\n",
    "    println(\"Todas as tarefas assíncronas concluídas\")\n",
    "}\n",
    "\n",
    "main()"
   ],
   "metadata": {
    "collapsed": false,
    "ExecuteTime": {
     "end_time": "2024-03-15T18:50:28.240312100Z",
     "start_time": "2024-03-15T18:50:26.996413100Z"
    }
   },
   "execution_count": 41
  },
  {
   "cell_type": "markdown",
   "source": [
    "Explicação do código:\n",
    "\n",
    "Dentro dessa corrotina, há duas instruções: println(\"Iniciando tarefa assíncrona\") e delay(1000). A primeira imprime uma mensagem indicando o início de uma tarefa assíncrona, enquanto a segunda simula uma operação de longa duração (1 segundo) usando a função delay das corrotinas do Kotlin. Após o atraso, a corrotina imprime outra mensagem indicando que a tarefa assíncrona foi concluída.\n",
    "\n",
    "println(\"Main thread continua a executar enquanto a tarefa assíncrona está em andamento\"): Esta linha imprime uma mensagem indicando que a thread principal (main thread) continua executando enquanto a tarefa assíncrona está em andamento. Isso demonstra o conceito de concorrência, onde a execução do código principal não é bloqueada pela execução da corrotina.\n",
    "\n",
    "A instrução job.join(), que faz com que o programa aguarde a conclusão da corrotina antes de prosseguir. Após a conclusão da corrotina, uma mensagem é impressa indicando que todas as tarefas assíncronas foram concluídas."
   ],
   "metadata": {
    "collapsed": false
   }
  },
  {
   "cell_type": "markdown",
   "source": [
    "Cancelar (cancel()): O método cancel() é usado para interromper a execução da corrotina associada ao job. Isso é útil quando você precisa abortar uma tarefa assíncrona, por exemplo, quando o usuário decide cancelar uma operação."
   ],
   "metadata": {
    "collapsed": false
   }
  },
  {
   "cell_type": "code",
   "outputs": [
    {
     "name": "stdout",
     "output_type": "stream",
     "text": [
      "Iniciando tarefa assíncrona\r\n",
      "Corrotina cancelada, aguardando a conclusão\r\n",
      "Exceção capturada: StandaloneCoroutine was cancelled\r\n",
      "Todas as tarefas assíncronas concluídas\r\n"
     ]
    }
   ],
   "source": [
    "import kotlinx.coroutines.*\n",
    "\n",
    "fun main() = runBlocking {\n",
    "    // Iniciando uma corrotina\n",
    "    val job = launch {\n",
    "        try {\n",
    "            println(\"Iniciando tarefa assíncrona\")\n",
    "            delay(5000) // Simula uma operação de longa duração (5 segundos)\n",
    "            println(\"Tarefa assíncrona concluída\")\n",
    "        } catch (e: Exception) {\n",
    "            println(\"Exceção capturada: ${e.message}\")\n",
    "        }\n",
    "    }\n",
    "\n",
    "    // Aguarda um tempo antes de cancelar a corrotina\n",
    "    delay(2000)// 2 segundos\n",
    "\n",
    "    // Cancela a corrotina\n",
    "    job.cancel()\n",
    "\n",
    "    println(\"Corrotina cancelada, aguardando a conclusão\")\n",
    "\n",
    "    // Aguarda a conclusão da corrotina cancelada\n",
    "    job.join()\n",
    "\n",
    "    println(\"Todas as tarefas assíncronas concluídas\")\n",
    "}\n",
    "\n",
    "main()"
   ],
   "metadata": {
    "collapsed": false,
    "ExecuteTime": {
     "end_time": "2024-03-15T18:43:48.189014600Z",
     "start_time": "2024-03-15T18:43:45.910634500Z"
    }
   },
   "execution_count": 37
  },
  {
   "cell_type": "markdown",
   "source": [
    "Explicação código:\n",
    "Uma corrotina é iniciada usando a função launch.\n",
    "Após um atraso de 2 segundos, a corrotina é cancelada usando job.cancel().\n",
    "A corrotina pode capturar uma CancellationException para lidar com a interrupção limpa.\n",
    "Finalmente, o programa espera que a corrotina cancelada termine usando job.join().\n",
    "É importante notar que a função cancel() envia um sinal de cancelamento para a corrotina, mas não a interrompe imediatamente. A corrotina precisa verificar periodicamente se foi cancelada usando funções como isActive e, se necessário, realizar tarefas de limpeza e finalização antes de encerrar."
   ],
   "metadata": {
    "collapsed": false
   }
  },
  {
   "cell_type": "markdown",
   "source": [
    "Verificar o status (isActive, isCompleted, isCancelled): Você pode verificar o estado atual da corrotina associada ao job usando esses métodos. Isso permite que você saiba se a corrotina ainda está em execução, se foi concluída com sucesso ou se foi cancelada."
   ],
   "metadata": {
    "collapsed": false
   }
  },
  {
   "cell_type": "code",
   "outputs": [
    {
     "name": "stdout",
     "output_type": "stream",
     "text": [
      "A corrotina ainda está em execução\r\n"
     ]
    }
   ],
   "source": [
    "val oi = GlobalScope.launch {\n",
    "    // Corrotina com operação demorada\n",
    "}\n",
    "// Verifica se a corrotina ainda está ativa\n",
    "if (oi.isActive) {\n",
    "    println(\"A corrotina ainda está em execução\")\n",
    "}"
   ],
   "metadata": {
    "collapsed": false,
    "ExecuteTime": {
     "end_time": "2024-03-15T18:54:52.567884Z",
     "start_time": "2024-03-15T18:54:52.471536100Z"
    }
   },
   "execution_count": 42
  },
  {
   "cell_type": "markdown",
   "source": [
    "Explicação código:\n",
    "\n",
    "O if (job.isActive) { ... }: verifica se a corrotina associada ao objeto job ainda está ativa. A propriedade isActive é uma propriedade booleana que retorna true se a corrotina estiver ativa (ou seja, se ela ainda não foi concluída ou cancelada), e false caso contrário.\n",
    "\n",
    "Assim ,se a corrotina estiver ativa, esta linha será executada(println(\"A corrotina ainda está em execução\")), imprimindo a mensagem.Isso indica que a corrotina ainda está sendo processada e não foi concluída ou cancelada."
   ],
   "metadata": {
    "collapsed": false
   }
  }
 ],
 "metadata": {
  "kernelspec": {
   "display_name": "Kotlin",
   "language": "kotlin",
   "name": "kotlin"
  },
  "language_info": {
   "name": "kotlin",
   "version": "1.9.0",
   "mimetype": "text/x-kotlin",
   "file_extension": ".kt",
   "pygments_lexer": "kotlin",
   "codemirror_mode": "text/x-kotlin",
   "nbconvert_exporter": ""
  }
 },
 "nbformat": 4,
 "nbformat_minor": 0
}
